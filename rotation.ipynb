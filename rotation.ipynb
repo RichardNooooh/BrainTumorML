{
 "cells": [
  {
   "cell_type": "code",
   "execution_count": 1,
   "metadata": {},
   "outputs": [],
   "source": [
    "import os\n",
    "# from collections import Counter\n",
    "# from copy import deepcopy\n",
    "\n",
    "import numpy as np\n",
    "import matplotlib.pyplot as plt\n",
    "from PIL import Image\n",
    "from tqdm import tqdm\n",
    "\n",
    "import torch\n",
    "import torch.nn as nn\n",
    "import torch.nn.functional as F\n",
    "import torchvision.transforms.v2 as transforms\n",
    "from torchvision.ops import deform_conv2d\n",
    "from torch.autograd import Variable\n",
    "from torch.utils.data import DataLoader\n",
    "from sklearn.model_selection import train_test_split\n",
    "from sklearn.metrics import confusion_matrix\n",
    "\n",
    "import pandas as pd"
   ]
  },
  {
   "cell_type": "code",
   "execution_count": 2,
   "metadata": {},
   "outputs": [
    {
     "name": "stdout",
     "output_type": "stream",
     "text": [
      "Using GPU: NVIDIA GeForce RTX 2070 SUPER\n"
     ]
    }
   ],
   "source": [
    "if torch.cuda.is_available():\n",
    "    device = torch.device(\"cuda\")\n",
    "    print(\"Using GPU:\", torch.cuda.get_device_name(0))\n",
    "else:\n",
    "    device = torch.device(\"cpu\")\n",
    "    print(\"GPU not available, using CPU instead.\")"
   ]
  },
  {
   "cell_type": "code",
   "execution_count": 3,
   "metadata": {},
   "outputs": [],
   "source": [
    "NUM_EPOCHS = 20\n",
    "BATCH_SIZE = 32"
   ]
  },
  {
   "cell_type": "markdown",
   "metadata": {},
   "source": [
    "## Data Processing"
   ]
  },
  {
   "cell_type": "code",
   "execution_count": 4,
   "metadata": {},
   "outputs": [
    {
     "name": "stderr",
     "output_type": "stream",
     "text": [
      "100%|██████████| 1731/1731 [00:00<00:00, 4394.86it/s]\n",
      "100%|██████████| 1620/1620 [00:00<00:00, 5321.06it/s]\n",
      "100%|██████████| 1635/1635 [00:00<00:00, 4780.41it/s]\n",
      "100%|██████████| 1740/1740 [00:00<00:00, 3972.54it/s]\n"
     ]
    }
   ],
   "source": [
    "label_map = {'notumor': 0, 'glioma': 1, 'meningioma': 2, 'pituitary': 3}\n",
    "\n",
    "def load_images(base_path):\n",
    "    images = []\n",
    "    labels = []\n",
    "    \n",
    "    for label in label_map.keys():\n",
    "        path = os.path.join(base_path, label)\n",
    "        for file in tqdm(os.listdir(path)):\n",
    "            file_path = os.path.join(path, file)\n",
    "\n",
    "            # process image\n",
    "            image = Image.open(file_path).convert('L')\n",
    "            # image = image_to_tensor(image)\n",
    "            images.append(image)\n",
    "            \n",
    "            # (binary label, multiclass label)\n",
    "            labels.append((label_map[label]))\n",
    "    \n",
    "    return images, labels\n",
    "\n",
    "all_images, all_labels = load_images('./preprocessed_data/')\n",
    "\n",
    "x_train, x_test, y_train, y_test = train_test_split(all_images, all_labels, test_size=0.2, random_state=69)\n",
    "\n",
    "y_train = [int(label != 0) for label in y_train]\n",
    "y_test =  [int(label != 0) for label in y_test]"
   ]
  },
  {
   "cell_type": "code",
   "execution_count": 5,
   "metadata": {},
   "outputs": [],
   "source": [
    "from torch.utils.data import Dataset\n",
    "\n",
    "# I don't want to deal with the ImageFolder loader\n",
    "class CustomDataset(Dataset):\n",
    "    def __init__(self, images, labels, transform=None):\n",
    "        self.images = images\n",
    "        self.labels = labels\n",
    "        self.transform = transform\n",
    "\n",
    "    def __len__(self):\n",
    "        return len(self.images)\n",
    "\n",
    "    def __getitem__(self, idx):\n",
    "        image = self.images[idx]\n",
    "        label = self.labels[idx]\n",
    "        if self.transform:\n",
    "            image = self.transform(image)\n",
    "        return image, label\n",
    "    \n",
    "# from https://github.com/pytorch/vision/issues/6192\n",
    "def gauss_noise_tensor(img):\n",
    "    assert isinstance(img, torch.Tensor)\n",
    "    dtype = img.dtype\n",
    "    if not img.is_floating_point():\n",
    "        img = img.to(torch.float32)\n",
    "    \n",
    "    sigma = 0.05\n",
    "    \n",
    "    out = img + sigma * torch.randn_like(img)\n",
    "    \n",
    "    if out.dtype != dtype:\n",
    "        out = out.to(dtype)\n",
    "        \n",
    "    return out\n",
    "\n",
    "# Testing transform\n",
    "simple_transform = transforms.Compose([\n",
    "    transforms.Normalize((0.5,), (0.5,))\n",
    "])\n",
    "\n",
    "# Training Transforms\n",
    "base_transform = transforms.Compose([\n",
    "    gauss_noise_tensor,\n",
    "    transforms.RandomHorizontalFlip(p=0.5),\n",
    "    transforms.Normalize((0.5,), (0.5,))\n",
    "])\n",
    "rotate_transform = transforms.Compose([\n",
    "    gauss_noise_tensor,\n",
    "    transforms.RandomHorizontalFlip(p=0.5),\n",
    "    transforms.RandomRotation(180),\n",
    "    transforms.Normalize((0.5,), (0.5,))\n",
    "])"
   ]
  },
  {
   "cell_type": "code",
   "execution_count": 6,
   "metadata": {},
   "outputs": [],
   "source": [
    "# process training sets (no data augment and data augment)\n",
    "image_to_tensor = transforms.Compose([transforms.ToImage(), transforms.ToDtype(torch.float32, scale=True)])\n",
    "\n",
    "base_image_train = [image_to_tensor(image.copy()) for image in x_train]\n",
    "rotate_image_train = [image_to_tensor(image.copy()) for image in x_train]\n",
    "\n",
    "base_train_loader = DataLoader(CustomDataset(base_image_train, y_train, base_transform), \n",
    "                                batch_size=BATCH_SIZE,\n",
    "                                shuffle=True,\n",
    "                                drop_last=True, # so that RIC can work properly\n",
    "                                pin_memory=True,\n",
    "                                num_workers=3)\n",
    "rotated_train_loader = DataLoader(CustomDataset(rotate_image_train, y_train, rotate_transform), \n",
    "                                batch_size=BATCH_SIZE,\n",
    "                                shuffle=True,\n",
    "                                drop_last=True, # so that RIC can work properly\n",
    "                                pin_memory=True,\n",
    "                                num_workers=3)\n",
    "\n",
    "# produce test images at fixed rotations\n",
    "test_loader_per_rotation = dict()\n",
    "for angle in range(0, 360, 30):\n",
    "    test_images = []\n",
    "    test_labels = []\n",
    "    for image, label in zip(x_test, y_test):\n",
    "        rotated_image = image.copy()\n",
    "        rotated_image = rotated_image.rotate(angle)\n",
    "        rotated_image = image_to_tensor(rotated_image)\n",
    "\n",
    "        test_images.append(rotated_image)\n",
    "        test_labels.append(label)\n",
    "\n",
    "    test_loader_per_rotation[angle] = DataLoader(\n",
    "                                        CustomDataset(test_images, test_labels, simple_transform), \n",
    "                                        batch_size=BATCH_SIZE,\n",
    "                                        shuffle=False,\n",
    "                                        drop_last=True, # so that RIC can work properly\n",
    "                                        pin_memory=True,\n",
    "                                        num_workers=3)\n",
    "    "
   ]
  },
  {
   "cell_type": "code",
   "execution_count": 7,
   "metadata": {},
   "outputs": [
    {
     "data": {
      "image/png": "[encoded data removed]",
      "text/plain": [
       "<Figure size 640x480 with 1 Axes>"
      ]
     },
     "metadata": {},
     "output_type": "display_data"
    },
    {
     "data": {
      "image/png": "[encoded data removed]",
      "text/plain": [
       "<Figure size 640x480 with 1 Axes>"
      ]
     },
     "metadata": {},
     "output_type": "display_data"
    }
   ],
   "source": [
    "im0, _ = test_loader_per_rotation[0].dataset[0]\n",
    "plt.imshow(im0.permute(1, 2, 0))\n",
    "plt.show()\n",
    "im60, _ = test_loader_per_rotation[120].dataset[0]\n",
    "plt.imshow(im60.permute(1, 2, 0))\n",
    "plt.show()"
   ]
  },
  {
   "cell_type": "markdown",
   "metadata": {},
   "source": [
    "## Model Definition"
   ]
  },
  {
   "cell_type": "code",
   "execution_count": 8,
   "metadata": {},
   "outputs": [],
   "source": [
    "class StandardCNN(nn.Module):\n",
    "    def __init__(self):\n",
    "        super(StandardCNN, self).__init__()\n",
    "        # 200x200 pixel grayscale image\n",
    "        self.conv1 = nn.Conv2d(in_channels=1, out_channels=16, kernel_size=3, padding=1) \n",
    "        self.bn1 = nn.BatchNorm2d(16)\n",
    "\n",
    "        self.conv2 = nn.Conv2d(in_channels=16, out_channels=32, kernel_size=3, padding=1)\n",
    "        self.bn2 = nn.BatchNorm2d(32)\n",
    "        self.dropout2 = nn.Dropout2d(p=0.2)\n",
    "        \n",
    "        self.conv3 = nn.Conv2d(in_channels=32, out_channels=64, kernel_size=3, padding=1)\n",
    "        self.bn3 = nn.BatchNorm2d(64)\n",
    "        self.dropout3 = nn.Dropout2d(p=0.2)\n",
    "\n",
    "        self.conv4 = nn.Conv2d(in_channels=64, out_channels=64, kernel_size=3, padding=1)\n",
    "        self.bn4 = nn.BatchNorm2d(64)\n",
    "        self.dropout4 = nn.Dropout2d(p=0.2)\n",
    "        \n",
    "        self.fc1 = nn.Linear(64 * 25 * 25, 64)\n",
    "        self.fc2 = nn.Linear(64, 1)\n",
    "\n",
    "    def forward(self, x):\n",
    "        x = self.conv1(x)\n",
    "        x = self.bn1(x)\n",
    "        x = F.relu(x)\n",
    "        \n",
    "        x = self.conv2(x)\n",
    "        x = self.bn2(x)\n",
    "        x = F.relu(x)\n",
    "        x = F.max_pool2d(x, 2)\n",
    "        x = self.dropout2(x)\n",
    "\n",
    "        x = self.conv3(x)\n",
    "        x = self.bn3(x)\n",
    "        x = F.relu(x)\n",
    "        x = F.max_pool2d(x, 2)\n",
    "        x = self.dropout3(x)\n",
    "\n",
    "        x = self.conv4(x)\n",
    "        x = self.bn4(x)\n",
    "        x = F.relu(x)\n",
    "        x = F.max_pool2d(x, 2)\n",
    "        x = self.dropout4(x)\n",
    "\n",
    "        x = x.view(x.size(0), -1)  # Flatten the output\n",
    "        x = self.fc1(x)\n",
    "        x = F.relu(x)\n",
    "        \n",
    "        x = self.fc2(x)  # No activation, raw logits for CrossEntropyLoss\n",
    "        return x"
   ]
  },
  {
   "cell_type": "code",
   "execution_count": 9,
   "metadata": {},
   "outputs": [],
   "source": [
    "class RIC_CNN(nn.Module): # TODO\n",
    "    def __init__(self, batch_size):\n",
    "        super(RIC_CNN, self).__init__()\n",
    "        self.coords1 = self.generate_coordinates(batch_size, 200, 200)\n",
    "        self.conv1 = nn.Conv2d(in_channels=1, out_channels=16, kernel_size=3, padding=1)\n",
    "        self.bn1 = nn.BatchNorm2d(16)\n",
    "\n",
    "        self.coords2 = self.generate_coordinates(batch_size, 200, 200)\n",
    "        self.conv2 = nn.Conv2d(in_channels=16, out_channels=32, kernel_size=3, padding=1)\n",
    "        self.bn2 = nn.BatchNorm2d(32)\n",
    "        self.dropout2 = nn.Dropout2d(p=0.2)\n",
    "\n",
    "        self.coords3 = self.generate_coordinates(batch_size, 100, 100)\n",
    "        self.conv3 = nn.Conv2d(in_channels=32, out_channels=64, kernel_size=3, padding=1)\n",
    "        self.bn3 = nn.BatchNorm2d(64)\n",
    "        self.dropout3 = nn.Dropout2d(p=0.2)\n",
    "\n",
    "        self.coords4 = self.generate_coordinates(batch_size, 50, 50)\n",
    "        self.conv4 = nn.Conv2d(in_channels=64, out_channels=64, kernel_size=3, padding=1)\n",
    "        self.bn4 = nn.BatchNorm2d(64)\n",
    "        self.dropout4 = nn.Dropout2d(p=0.2)\n",
    "        \n",
    "        self.fc1 = nn.Linear(64 * 25 * 25, 64)  # Adjust if different size or pooling\n",
    "        self.fc2 = nn.Linear(64, 1) \n",
    "\n",
    "    def forward(self, x):\n",
    "        x = deform_conv2d(input=x, offset=self.coords1, weight=self.conv1.weight, padding=(1, 1))\n",
    "        x = self.bn1(x)\n",
    "        x = F.relu(x)\n",
    "        \n",
    "        x = deform_conv2d(input=x, offset=self.coords2, weight=self.conv2.weight, padding=(1, 1))\n",
    "        x = self.bn2(x)\n",
    "        x = F.relu(x)\n",
    "        x = F.max_pool2d(x, 2)\n",
    "        x = self.dropout2(x)\n",
    "\n",
    "        x = deform_conv2d(input=x, offset=self.coords3, weight=self.conv3.weight, padding=(1, 1))\n",
    "        x = self.bn3(x)\n",
    "        x = F.relu(x)\n",
    "        x = F.max_pool2d(x, 2)\n",
    "        x = self.dropout3(x)\n",
    "\n",
    "        x = deform_conv2d(input=x, offset=self.coords4, weight=self.conv4.weight, padding=(1, 1))\n",
    "        x = self.bn4(x)\n",
    "        x = F.relu(x)\n",
    "        x = F.max_pool2d(x, 2)\n",
    "        x = self.dropout4(x)\n",
    "\n",
    "        x = x.view(x.size(0), -1)  # Flatten the output\n",
    "        x = self.fc1(x)\n",
    "        x = F.relu(x)\n",
    "        \n",
    "        x = self.fc2(x)\n",
    "        return x\n",
    "    \n",
    "    # code from https://github.com/HanlinMo/Rotation-Invariant-Coordinate-Convolutional-Neural-Network/\n",
    "    def generate_coordinates(self, batch_size, input_height, input_width):\n",
    "        coords = torch.zeros(input_height, input_width, 2 * 3 * 3)\n",
    "        \n",
    "        parameters = torch.zeros(3)\n",
    "        parameters[0] = batch_size\n",
    "        parameters[1] = input_height\n",
    "        parameters[2] = input_width\n",
    "        \n",
    "        center = torch.zeros(2)\n",
    "        center[0]=torch.sub(torch.div(parameters[1], 2.0), 0.5)\n",
    "        center[1]=torch.sub(torch.div(parameters[2], 2.0), 0.5)\n",
    "            \n",
    "        x_grid = torch.arange(0, parameters[1])\n",
    "        y_grid = torch.arange(0, parameters[2]) \n",
    "        grid_x, grid_y = torch.meshgrid(x_grid, y_grid)\n",
    "        \n",
    "        #coords[:,:,8]=grid_x\n",
    "        #coords[:,:,9]=grid_y\n",
    "               \n",
    "        delta_x = torch.sub(grid_x, center[0])\n",
    "        delta_y = torch.sub(grid_y, center[1])\n",
    "        PI = torch.mul(torch.Tensor([np.pi]), 2.0)\n",
    "        theta=torch.atan2(delta_y, delta_x) % PI[0]\n",
    "        theta=torch.round(10000.*theta)/10000.\n",
    "        \n",
    "        coords[:,:,0]=torch.add(torch.cos(torch.add(theta,torch.mul(torch.div(PI[0],8.0),0.0))),1.0)\n",
    "        coords[:,:,1]=torch.add(torch.sin(torch.add(theta,torch.mul(torch.div(PI[0],8.0),0.0))),1.0)    \n",
    "        \n",
    "        coords[:,:,2]=torch.add(torch.cos(torch.add(theta,torch.mul(torch.div(PI[0],8.0),1.0))),1.0)\n",
    "        coords[:,:,3]=torch.add(torch.sin(torch.add(theta,torch.mul(torch.div(PI[0],8.0),1.0))),0.0)\n",
    "        \n",
    "        coords[:,:,4]=torch.add(torch.cos(torch.add(theta,torch.mul(torch.div(PI[0],8.0),2.0))),1.0)\n",
    "        coords[:,:,5]=torch.add(torch.sin(torch.add(theta,torch.mul(torch.div(PI[0],8.0),2.0))),-1.0)\n",
    "        \n",
    "        coords[:,:,6]=torch.add(torch.cos(torch.add(theta,torch.mul(torch.div(PI[0],8.0),3.0))),0.0)\n",
    "        coords[:,:,7]=torch.add(torch.sin(torch.add(theta,torch.mul(torch.div(PI[0],8.0),3.0))),1.0)\n",
    "        \n",
    "        coords[:,:,10]=torch.add(torch.cos(torch.add(theta,torch.mul(torch.div(PI[0],8.0),4.0))),0.0)\n",
    "        coords[:,:,11]=torch.add(torch.sin(torch.add(theta,torch.mul(torch.div(PI[0],8.0),4.0))),-1.0)\n",
    "        \n",
    "        coords[:,:,12]=torch.add(torch.cos(torch.add(theta,torch.mul(torch.div(PI[0],8.0),5.0))),-1.0)\n",
    "        coords[:,:,13]=torch.add(torch.sin(torch.add(theta,torch.mul(torch.div(PI[0],8.0),5.0))),1.0)\n",
    "        \n",
    "        coords[:,:,14]=torch.add(torch.cos(torch.add(theta,torch.mul(torch.div(PI[0],8.0),6.0))),-1.0)\n",
    "        coords[:,:,15]=torch.add(torch.sin(torch.add(theta,torch.mul(torch.div(PI[0],8.0),6.0))),0.0)\n",
    "        \n",
    "        coords[:,:,16]=torch.add(torch.cos(torch.add(theta,torch.mul(torch.div(PI[0],8.0),7.0))),-1.0)\n",
    "        coords[:,:,17]=torch.add(torch.sin(torch.add(theta,torch.mul(torch.div(PI[0],8.0),7.0))),-1.0)\n",
    "        \n",
    "        coords=coords.expand(batch_size,-1,-1,-1) \n",
    "        coords=coords.permute(0, 3, 1, 2)\n",
    "        coords = coords.cuda()\n",
    "        \n",
    "        return Variable(coords, requires_grad=False)\n"
   ]
  },
  {
   "cell_type": "markdown",
   "metadata": {},
   "source": [
    "## Training/Evaluation Methods"
   ]
  },
  {
   "cell_type": "code",
   "execution_count": 10,
   "metadata": {},
   "outputs": [],
   "source": [
    "# def train_multiclass(model, criterion, optimizer, training_loader):\n",
    "#     model.train()  # Set the model to training mode\n",
    "    \n",
    "#     correct = 0.0\n",
    "#     total = 0.0\n",
    "#     for images, labels in tqdm(training_loader):\n",
    "#         images, labels = images.to(device), labels.to(device)\n",
    "        \n",
    "#         optimizer.zero_grad()\n",
    "#         outputs = model(images)\n",
    "\n",
    "#         # calculate the training accuracy\n",
    "#         _, predicted = torch.max(outputs.data, 1)  # Get the index of the max log-probability\n",
    "#         total += labels.size(0)\n",
    "#         correct += (predicted == labels).sum().item()\n",
    "\n",
    "#         # calculate loss and backpropagate\n",
    "#         loss = criterion(outputs, labels)\n",
    "#         loss.backward()\n",
    "#         optimizer.step()\n",
    "    \n",
    "#     return correct / total\n",
    "    \n",
    "# def evaluate_multiclass(model, testing_loader):\n",
    "#     model.eval()  # Set the model to evaluation mode\n",
    "#     correct = 0\n",
    "#     total = 0\n",
    "#     with torch.no_grad():\n",
    "#         for images, labels in testing_loader:\n",
    "#             images, labels = images.to(device), labels.to(device)\n",
    "#             outputs = model(images)\n",
    "#             _, predicted = torch.max(outputs.data, 1)  # Get the index of the max probability\n",
    "\n",
    "#             total += labels.size(0)\n",
    "#             correct += (predicted == labels).sum().item()\n",
    "\n",
    "#     return correct / total\n",
    "\n",
    "# def run_multiclass(num_epochs, model, criterion, optimizer, training_loader, testing_loader_per_rotation):\n",
    "#     training_accuracies = []\n",
    "    \n",
    "#     # initialize dict\n",
    "#     general_accuracies = dict()\n",
    "#     for angle in testing_loader_per_rotation.keys():\n",
    "#         general_accuracies[angle] = []\n",
    "\n",
    "#     for epoch in range(num_epochs):\n",
    "#         training_accuracy = train_multiclass(model, criterion, optimizer, training_loader)\n",
    "#         training_accuracies.append(training_accuracy)\n",
    "#         print(f'Epoch {epoch+1}/{num_epochs}, Training Accuracy: {training_accuracy}')\n",
    "\n",
    "#         for angle in testing_loader_per_rotation.keys():\n",
    "#             general_accuracy = evaluate_multiclass(model, testing_loader_per_rotation[angle])\n",
    "#             general_accuracies[angle].append(general_accuracy)\n",
    "#             print(f'    Gen. Acc, Angle = {angle}: {general_accuracy}')\n",
    "\n",
    "#     return training_accuracies, general_accuracies"
   ]
  },
  {
   "cell_type": "code",
   "execution_count": 11,
   "metadata": {},
   "outputs": [],
   "source": [
    "def train_binary(model, criterion, optimizer, training_loader):\n",
    "    model.train()  # Set the model to training mode\n",
    "    correct = 0.0\n",
    "    total = 0.0\n",
    "    \n",
    "    for images, labels in tqdm(training_loader):\n",
    "        images, labels = images.to(device), labels.float().unsqueeze(1).to(device)\n",
    "        \n",
    "        optimizer.zero_grad()\n",
    "        outputs = model(images)\n",
    "\n",
    "        # calculate the training error\n",
    "        probs = torch.sigmoid(outputs)  # Convert logits to probabilities\n",
    "        predicted = probs.round()  # Convert probabilities to 0 or 1\n",
    "        total += labels.size(0)\n",
    "        correct += (predicted == labels).sum().item()\n",
    "        \n",
    "        # calculate loss and backpropagate\n",
    "        loss = criterion(outputs, labels)\n",
    "        loss.backward()\n",
    "        optimizer.step()\n",
    "\n",
    "    return correct / total\n",
    "\n",
    "def evaluate_binary(model, testing_loader):\n",
    "    model.eval()  # Set the model to evaluation mode\n",
    "    correct = 0\n",
    "    total = 0\n",
    "\n",
    "    with torch.no_grad():\n",
    "        for images, labels in testing_loader:\n",
    "            images, labels = images.to(device), labels.float().unsqueeze(1).to(device)\n",
    "            outputs = model(images)\n",
    "            probs = torch.sigmoid(outputs)  # Convert logits to probabilities\n",
    "            predicted = probs.round()  # Convert probabilities to 0 or 1\n",
    "\n",
    "            total += labels.size(0)\n",
    "            correct += (predicted == labels).sum().item()\n",
    "\n",
    "    return correct / total\n",
    "\n",
    "def run_binary(num_epochs, model, criterion, optimizer, training_loader, testing_loader_per_rotation):\n",
    "    training_accuracies = []\n",
    "    \n",
    "    # initialize dict\n",
    "    general_accuracies = dict()\n",
    "    for angle in testing_loader_per_rotation.keys():\n",
    "        general_accuracies[angle] = []\n",
    "\n",
    "    for epoch in range(num_epochs):\n",
    "        training_accuracy = train_binary(model, criterion, optimizer, training_loader)\n",
    "        training_accuracies.append(training_accuracy)\n",
    "        print(f'Epoch {epoch+1}/{num_epochs}, Training Accuracy: {training_accuracy}')\n",
    "\n",
    "        for angle in testing_loader_per_rotation.keys():\n",
    "            general_accuracy = evaluate_binary(model, testing_loader_per_rotation[angle])\n",
    "            general_accuracies[angle].append(general_accuracy)\n",
    "            print(f'    Gen. Acc, Angle = {angle}: {general_accuracy}')\n",
    "\n",
    "    return training_accuracies, general_accuracies"
   ]
  },
  {
   "cell_type": "markdown",
   "metadata": {},
   "source": [
    "## Training All 3 Models"
   ]
  },
  {
   "cell_type": "code",
   "execution_count": 12,
   "metadata": {},
   "outputs": [
    {
     "name": "stdout",
     "output_type": "stream",
     "text": [
      "Training Standard, No Augment\n"
     ]
    },
    {
     "name": "stderr",
     "output_type": "stream",
     "text": [
      "100%|██████████| 168/168 [00:08<00:00, 19.64it/s]"
     ]
    },
    {
     "name": "stdout",
     "output_type": "stream",
     "text": [
      "Epoch 1/20, Training Accuracy: 0.8926711309523809\n"
     ]
    },
    {
     "name": "stderr",
     "output_type": "stream",
     "text": [
      "\n"
     ]
    },
    {
     "name": "stdout",
     "output_type": "stream",
     "text": [
      "    Gen. Acc, Angle = 0: 0.9486607142857143\n",
      "    Gen. Acc, Angle = 30: 0.8697916666666666\n",
      "    Gen. Acc, Angle = 60: 0.8028273809523809\n",
      "    Gen. Acc, Angle = 90: 0.7738095238095238\n",
      "    Gen. Acc, Angle = 120: 0.8177083333333334\n",
      "    Gen. Acc, Angle = 150: 0.7738095238095238\n",
      "    Gen. Acc, Angle = 180: 0.8058035714285714\n",
      "    Gen. Acc, Angle = 210: 0.7395833333333334\n",
      "    Gen. Acc, Angle = 240: 0.7410714285714286\n",
      "    Gen. Acc, Angle = 270: 0.7886904761904762\n",
      "    Gen. Acc, Angle = 300: 0.8675595238095238\n",
      "    Gen. Acc, Angle = 330: 0.9226190476190477\n"
     ]
    },
    {
     "name": "stderr",
     "output_type": "stream",
     "text": [
      "100%|██████████| 168/168 [00:07<00:00, 21.64it/s]"
     ]
    },
    {
     "name": "stdout",
     "output_type": "stream",
     "text": [
      "Epoch 2/20, Training Accuracy: 0.9388020833333334\n"
     ]
    },
    {
     "name": "stderr",
     "output_type": "stream",
     "text": [
      "\n"
     ]
    },
    {
     "name": "stdout",
     "output_type": "stream",
     "text": [
      "    Gen. Acc, Angle = 0: 0.9650297619047619\n",
      "    Gen. Acc, Angle = 30: 0.8824404761904762\n",
      "    Gen. Acc, Angle = 60: 0.7046130952380952\n",
      "    Gen. Acc, Angle = 90: 0.5855654761904762\n",
      "    Gen. Acc, Angle = 120: 0.6688988095238095\n",
      "    Gen. Acc, Angle = 150: 0.6063988095238095\n",
      "    Gen. Acc, Angle = 180: 0.6889880952380952\n",
      "    Gen. Acc, Angle = 210: 0.6569940476190477\n",
      "    Gen. Acc, Angle = 240: 0.6391369047619048\n",
      "    Gen. Acc, Angle = 270: 0.6651785714285714\n",
      "    Gen. Acc, Angle = 300: 0.8288690476190477\n",
      "    Gen. Acc, Angle = 330: 0.9055059523809523\n"
     ]
    },
    {
     "name": "stderr",
     "output_type": "stream",
     "text": [
      "100%|██████████| 168/168 [00:07<00:00, 22.14it/s]"
     ]
    },
    {
     "name": "stdout",
     "output_type": "stream",
     "text": [
      "Epoch 3/20, Training Accuracy: 0.9564732142857143\n"
     ]
    },
    {
     "name": "stderr",
     "output_type": "stream",
     "text": [
      "\n"
     ]
    },
    {
     "name": "stdout",
     "output_type": "stream",
     "text": [
      "    Gen. Acc, Angle = 0: 0.9561011904761905\n",
      "    Gen. Acc, Angle = 30: 0.7946428571428571\n",
      "    Gen. Acc, Angle = 60: 0.6279761904761905\n",
      "    Gen. Acc, Angle = 90: 0.5394345238095238\n",
      "    Gen. Acc, Angle = 120: 0.609375\n",
      "    Gen. Acc, Angle = 150: 0.5215773809523809\n",
      "    Gen. Acc, Angle = 180: 0.6116071428571429\n",
      "    Gen. Acc, Angle = 210: 0.5930059523809523\n",
      "    Gen. Acc, Angle = 240: 0.5863095238095238\n",
      "    Gen. Acc, Angle = 270: 0.5989583333333334\n",
      "    Gen. Acc, Angle = 300: 0.796875\n",
      "    Gen. Acc, Angle = 330: 0.8638392857142857\n"
     ]
    },
    {
     "name": "stderr",
     "output_type": "stream",
     "text": [
      "100%|██████████| 168/168 [00:07<00:00, 22.08it/s]"
     ]
    },
    {
     "name": "stdout",
     "output_type": "stream",
     "text": [
      "Epoch 4/20, Training Accuracy: 0.9670758928571429\n"
     ]
    },
    {
     "name": "stderr",
     "output_type": "stream",
     "text": [
      "\n"
     ]
    },
    {
     "name": "stdout",
     "output_type": "stream",
     "text": [
      "    Gen. Acc, Angle = 0: 0.9650297619047619\n",
      "    Gen. Acc, Angle = 30: 0.8430059523809523\n",
      "    Gen. Acc, Angle = 60: 0.7284226190476191\n",
      "    Gen. Acc, Angle = 90: 0.6220238095238095\n",
      "    Gen. Acc, Angle = 120: 0.6733630952380952\n",
      "    Gen. Acc, Angle = 150: 0.6227678571428571\n",
      "    Gen. Acc, Angle = 180: 0.6956845238095238\n",
      "    Gen. Acc, Angle = 210: 0.6242559523809523\n",
      "    Gen. Acc, Angle = 240: 0.6413690476190477\n",
      "    Gen. Acc, Angle = 270: 0.6688988095238095\n",
      "    Gen. Acc, Angle = 300: 0.8273809523809523\n",
      "    Gen. Acc, Angle = 330: 0.8876488095238095\n"
     ]
    },
    {
     "name": "stderr",
     "output_type": "stream",
     "text": [
      "100%|██████████| 168/168 [00:07<00:00, 22.13it/s]"
     ]
    },
    {
     "name": "stdout",
     "output_type": "stream",
     "text": [
      "Epoch 5/20, Training Accuracy: 0.9717261904761905\n"
     ]
    },
    {
     "name": "stderr",
     "output_type": "stream",
     "text": [
      "\n"
     ]
    },
    {
     "name": "stdout",
     "output_type": "stream",
     "text": [
      "    Gen. Acc, Angle = 0: 0.9724702380952381\n",
      "    Gen. Acc, Angle = 30: 0.8385416666666666\n",
      "    Gen. Acc, Angle = 60: 0.7150297619047619\n",
      "    Gen. Acc, Angle = 90: 0.6324404761904762\n",
      "    Gen. Acc, Angle = 120: 0.6778273809523809\n",
      "    Gen. Acc, Angle = 150: 0.6101190476190477\n",
      "    Gen. Acc, Angle = 180: 0.6681547619047619\n",
      "    Gen. Acc, Angle = 210: 0.6316964285714286\n",
      "    Gen. Acc, Angle = 240: 0.6592261904761905\n",
      "    Gen. Acc, Angle = 270: 0.6577380952380952\n",
      "    Gen. Acc, Angle = 300: 0.7834821428571429\n",
      "    Gen. Acc, Angle = 330: 0.8623511904761905\n"
     ]
    },
    {
     "name": "stderr",
     "output_type": "stream",
     "text": [
      "100%|██████████| 168/168 [00:07<00:00, 22.08it/s]"
     ]
    },
    {
     "name": "stdout",
     "output_type": "stream",
     "text": [
      "Epoch 6/20, Training Accuracy: 0.9732142857142857\n"
     ]
    },
    {
     "name": "stderr",
     "output_type": "stream",
     "text": [
      "\n"
     ]
    },
    {
     "name": "stdout",
     "output_type": "stream",
     "text": [
      "    Gen. Acc, Angle = 0: 0.9605654761904762\n",
      "    Gen. Acc, Angle = 30: 0.6867559523809523\n",
      "    Gen. Acc, Angle = 60: 0.5959821428571429\n",
      "    Gen. Acc, Angle = 90: 0.5528273809523809\n",
      "    Gen. Acc, Angle = 120: 0.5654761904761905\n",
      "    Gen. Acc, Angle = 150: 0.47470238095238093\n",
      "    Gen. Acc, Angle = 180: 0.5364583333333334\n",
      "    Gen. Acc, Angle = 210: 0.5357142857142857\n",
      "    Gen. Acc, Angle = 240: 0.5766369047619048\n",
      "    Gen. Acc, Angle = 270: 0.5364583333333334\n",
      "    Gen. Acc, Angle = 300: 0.6644345238095238\n",
      "    Gen. Acc, Angle = 330: 0.765625\n"
     ]
    },
    {
     "name": "stderr",
     "output_type": "stream",
     "text": [
      "100%|██████████| 168/168 [00:07<00:00, 22.10it/s]"
     ]
    },
    {
     "name": "stdout",
     "output_type": "stream",
     "text": [
      "Epoch 7/20, Training Accuracy: 0.9782366071428571\n"
     ]
    },
    {
     "name": "stderr",
     "output_type": "stream",
     "text": [
      "\n"
     ]
    },
    {
     "name": "stdout",
     "output_type": "stream",
     "text": [
      "    Gen. Acc, Angle = 0: 0.9799107142857143\n",
      "    Gen. Acc, Angle = 30: 0.7998511904761905\n",
      "    Gen. Acc, Angle = 60: 0.7150297619047619\n",
      "    Gen. Acc, Angle = 90: 0.6376488095238095\n",
      "    Gen. Acc, Angle = 120: 0.7269345238095238\n",
      "    Gen. Acc, Angle = 150: 0.6465773809523809\n",
      "    Gen. Acc, Angle = 180: 0.7321428571428571\n",
      "    Gen. Acc, Angle = 210: 0.6153273809523809\n",
      "    Gen. Acc, Angle = 240: 0.609375\n",
      "    Gen. Acc, Angle = 270: 0.609375\n",
      "    Gen. Acc, Angle = 300: 0.7834821428571429\n",
      "    Gen. Acc, Angle = 330: 0.8854166666666666\n"
     ]
    },
    {
     "name": "stderr",
     "output_type": "stream",
     "text": [
      "100%|██████████| 168/168 [00:07<00:00, 22.06it/s]"
     ]
    },
    {
     "name": "stdout",
     "output_type": "stream",
     "text": [
      "Epoch 8/20, Training Accuracy: 0.9791666666666666\n"
     ]
    },
    {
     "name": "stderr",
     "output_type": "stream",
     "text": [
      "\n"
     ]
    },
    {
     "name": "stdout",
     "output_type": "stream",
     "text": [
      "    Gen. Acc, Angle = 0: 0.9799107142857143\n",
      "    Gen. Acc, Angle = 30: 0.8638392857142857\n",
      "    Gen. Acc, Angle = 60: 0.7790178571428571\n",
      "    Gen. Acc, Angle = 90: 0.6934523809523809\n",
      "    Gen. Acc, Angle = 120: 0.78125\n",
      "    Gen. Acc, Angle = 150: 0.7395833333333334\n",
      "    Gen. Acc, Angle = 180: 0.8102678571428571\n",
      "    Gen. Acc, Angle = 210: 0.6949404761904762\n",
      "    Gen. Acc, Angle = 240: 0.6949404761904762\n",
      "    Gen. Acc, Angle = 270: 0.7053571428571429\n",
      "    Gen. Acc, Angle = 300: 0.8377976190476191\n",
      "    Gen. Acc, Angle = 330: 0.9107142857142857\n"
     ]
    },
    {
     "name": "stderr",
     "output_type": "stream",
     "text": [
      "100%|██████████| 168/168 [00:07<00:00, 21.82it/s]"
     ]
    },
    {
     "name": "stdout",
     "output_type": "stream",
     "text": [
      "Epoch 9/20, Training Accuracy: 0.9817708333333334\n"
     ]
    },
    {
     "name": "stderr",
     "output_type": "stream",
     "text": [
      "\n"
     ]
    },
    {
     "name": "stdout",
     "output_type": "stream",
     "text": [
      "    Gen. Acc, Angle = 0: 0.9769345238095238\n",
      "    Gen. Acc, Angle = 30: 0.9025297619047619\n",
      "    Gen. Acc, Angle = 60: 0.8519345238095238\n",
      "    Gen. Acc, Angle = 90: 0.7514880952380952\n",
      "    Gen. Acc, Angle = 120: 0.8087797619047619\n",
      "    Gen. Acc, Angle = 150: 0.7142857142857143\n",
      "    Gen. Acc, Angle = 180: 0.7961309523809523\n",
      "    Gen. Acc, Angle = 210: 0.7276785714285714\n",
      "    Gen. Acc, Angle = 240: 0.75\n",
      "    Gen. Acc, Angle = 270: 0.7596726190476191\n",
      "    Gen. Acc, Angle = 300: 0.8489583333333334\n",
      "    Gen. Acc, Angle = 330: 0.9203869047619048\n"
     ]
    },
    {
     "name": "stderr",
     "output_type": "stream",
     "text": [
      "100%|██████████| 168/168 [00:07<00:00, 22.09it/s]"
     ]
    },
    {
     "name": "stdout",
     "output_type": "stream",
     "text": [
      "Epoch 10/20, Training Accuracy: 0.9784226190476191\n"
     ]
    },
    {
     "name": "stderr",
     "output_type": "stream",
     "text": [
      "\n"
     ]
    },
    {
     "name": "stdout",
     "output_type": "stream",
     "text": [
      "    Gen. Acc, Angle = 0: 0.9799107142857143\n",
      "    Gen. Acc, Angle = 30: 0.8757440476190477\n",
      "    Gen. Acc, Angle = 60: 0.8177083333333334\n",
      "    Gen. Acc, Angle = 90: 0.7358630952380952\n",
      "    Gen. Acc, Angle = 120: 0.7924107142857143\n",
      "    Gen. Acc, Angle = 150: 0.7224702380952381\n",
      "    Gen. Acc, Angle = 180: 0.7961309523809523\n",
      "    Gen. Acc, Angle = 210: 0.7105654761904762\n",
      "    Gen. Acc, Angle = 240: 0.7269345238095238\n",
      "    Gen. Acc, Angle = 270: 0.703125\n",
      "    Gen. Acc, Angle = 300: 0.7953869047619048\n",
      "    Gen. Acc, Angle = 330: 0.8861607142857143\n"
     ]
    },
    {
     "name": "stderr",
     "output_type": "stream",
     "text": [
      "100%|██████████| 168/168 [00:07<00:00, 22.00it/s]"
     ]
    },
    {
     "name": "stdout",
     "output_type": "stream",
     "text": [
      "Epoch 11/20, Training Accuracy: 0.9853050595238095\n"
     ]
    },
    {
     "name": "stderr",
     "output_type": "stream",
     "text": [
      "\n"
     ]
    },
    {
     "name": "stdout",
     "output_type": "stream",
     "text": [
      "    Gen. Acc, Angle = 0: 0.9799107142857143\n",
      "    Gen. Acc, Angle = 30: 0.9084821428571429\n",
      "    Gen. Acc, Angle = 60: 0.7909226190476191\n",
      "    Gen. Acc, Angle = 90: 0.7135416666666666\n",
      "    Gen. Acc, Angle = 120: 0.7909226190476191\n",
      "    Gen. Acc, Angle = 150: 0.6421130952380952\n",
      "    Gen. Acc, Angle = 180: 0.6755952380952381\n",
      "    Gen. Acc, Angle = 210: 0.6264880952380952\n",
      "    Gen. Acc, Angle = 240: 0.6391369047619048\n",
      "    Gen. Acc, Angle = 270: 0.6555059523809523\n",
      "    Gen. Acc, Angle = 300: 0.7909226190476191\n",
      "    Gen. Acc, Angle = 330: 0.8936011904761905\n"
     ]
    },
    {
     "name": "stderr",
     "output_type": "stream",
     "text": [
      "100%|██████████| 168/168 [00:07<00:00, 22.03it/s]"
     ]
    },
    {
     "name": "stdout",
     "output_type": "stream",
     "text": [
      "Epoch 12/20, Training Accuracy: 0.9812127976190477\n"
     ]
    },
    {
     "name": "stderr",
     "output_type": "stream",
     "text": [
      "\n"
     ]
    },
    {
     "name": "stdout",
     "output_type": "stream",
     "text": [
      "    Gen. Acc, Angle = 0: 0.9813988095238095\n",
      "    Gen. Acc, Angle = 30: 0.8400297619047619\n",
      "    Gen. Acc, Angle = 60: 0.7589285714285714\n",
      "    Gen. Acc, Angle = 90: 0.7261904761904762\n",
      "    Gen. Acc, Angle = 120: 0.8199404761904762\n",
      "    Gen. Acc, Angle = 150: 0.7433035714285714\n",
      "    Gen. Acc, Angle = 180: 0.7916666666666666\n",
      "    Gen. Acc, Angle = 210: 0.6726190476190477\n",
      "    Gen. Acc, Angle = 240: 0.6599702380952381\n",
      "    Gen. Acc, Angle = 270: 0.6331845238095238\n",
      "    Gen. Acc, Angle = 300: 0.7321428571428571\n",
      "    Gen. Acc, Angle = 330: 0.8638392857142857\n"
     ]
    },
    {
     "name": "stderr",
     "output_type": "stream",
     "text": [
      "100%|██████████| 168/168 [00:07<00:00, 21.96it/s]"
     ]
    },
    {
     "name": "stdout",
     "output_type": "stream",
     "text": [
      "Epoch 13/20, Training Accuracy: 0.9793526785714286\n"
     ]
    },
    {
     "name": "stderr",
     "output_type": "stream",
     "text": [
      "\n"
     ]
    },
    {
     "name": "stdout",
     "output_type": "stream",
     "text": [
      "    Gen. Acc, Angle = 0: 0.9828869047619048\n",
      "    Gen. Acc, Angle = 30: 0.7805059523809523\n",
      "    Gen. Acc, Angle = 60: 0.6785714285714286\n",
      "    Gen. Acc, Angle = 90: 0.6577380952380952\n",
      "    Gen. Acc, Angle = 120: 0.7291666666666666\n",
      "    Gen. Acc, Angle = 150: 0.6294642857142857\n",
      "    Gen. Acc, Angle = 180: 0.7061011904761905\n",
      "    Gen. Acc, Angle = 210: 0.6309523809523809\n",
      "    Gen. Acc, Angle = 240: 0.6369047619047619\n",
      "    Gen. Acc, Angle = 270: 0.6235119047619048\n",
      "    Gen. Acc, Angle = 300: 0.7217261904761905\n",
      "    Gen. Acc, Angle = 330: 0.8199404761904762\n"
     ]
    },
    {
     "name": "stderr",
     "output_type": "stream",
     "text": [
      "100%|██████████| 168/168 [00:07<00:00, 21.91it/s]"
     ]
    },
    {
     "name": "stdout",
     "output_type": "stream",
     "text": [
      "Epoch 14/20, Training Accuracy: 0.9880952380952381\n"
     ]
    },
    {
     "name": "stderr",
     "output_type": "stream",
     "text": [
      "\n"
     ]
    },
    {
     "name": "stdout",
     "output_type": "stream",
     "text": [
      "    Gen. Acc, Angle = 0: 0.9821428571428571\n",
      "    Gen. Acc, Angle = 30: 0.8340773809523809\n",
      "    Gen. Acc, Angle = 60: 0.7723214285714286\n",
      "    Gen. Acc, Angle = 90: 0.7291666666666666\n",
      "    Gen. Acc, Angle = 120: 0.8028273809523809\n",
      "    Gen. Acc, Angle = 150: 0.6852678571428571\n",
      "    Gen. Acc, Angle = 180: 0.7544642857142857\n",
      "    Gen. Acc, Angle = 210: 0.6622023809523809\n",
      "    Gen. Acc, Angle = 240: 0.7224702380952381\n",
      "    Gen. Acc, Angle = 270: 0.7678571428571429\n",
      "    Gen. Acc, Angle = 300: 0.8407738095238095\n",
      "    Gen. Acc, Angle = 330: 0.9129464285714286\n"
     ]
    },
    {
     "name": "stderr",
     "output_type": "stream",
     "text": [
      "100%|██████████| 168/168 [00:07<00:00, 22.01it/s]"
     ]
    },
    {
     "name": "stdout",
     "output_type": "stream",
     "text": [
      "Epoch 15/20, Training Accuracy: 0.9841889880952381\n"
     ]
    },
    {
     "name": "stderr",
     "output_type": "stream",
     "text": [
      "\n"
     ]
    },
    {
     "name": "stdout",
     "output_type": "stream",
     "text": [
      "    Gen. Acc, Angle = 0: 0.9828869047619048\n",
      "    Gen. Acc, Angle = 30: 0.8526785714285714\n",
      "    Gen. Acc, Angle = 60: 0.7023809523809523\n",
      "    Gen. Acc, Angle = 90: 0.6294642857142857\n",
      "    Gen. Acc, Angle = 120: 0.6644345238095238\n",
      "    Gen. Acc, Angle = 150: 0.59375\n",
      "    Gen. Acc, Angle = 180: 0.7075892857142857\n",
      "    Gen. Acc, Angle = 210: 0.6294642857142857\n",
      "    Gen. Acc, Angle = 240: 0.6331845238095238\n",
      "    Gen. Acc, Angle = 270: 0.6398809523809523\n",
      "    Gen. Acc, Angle = 300: 0.7321428571428571\n",
      "    Gen. Acc, Angle = 330: 0.8162202380952381\n"
     ]
    },
    {
     "name": "stderr",
     "output_type": "stream",
     "text": [
      "100%|██████████| 168/168 [00:07<00:00, 22.05it/s]"
     ]
    },
    {
     "name": "stdout",
     "output_type": "stream",
     "text": [
      "Epoch 16/20, Training Accuracy: 0.9854910714285714\n"
     ]
    },
    {
     "name": "stderr",
     "output_type": "stream",
     "text": [
      "\n"
     ]
    },
    {
     "name": "stdout",
     "output_type": "stream",
     "text": [
      "    Gen. Acc, Angle = 0: 0.9747023809523809\n",
      "    Gen. Acc, Angle = 30: 0.8221726190476191\n",
      "    Gen. Acc, Angle = 60: 0.6956845238095238\n",
      "    Gen. Acc, Angle = 90: 0.6145833333333334\n",
      "    Gen. Acc, Angle = 120: 0.6875\n",
      "    Gen. Acc, Angle = 150: 0.5848214285714286\n",
      "    Gen. Acc, Angle = 180: 0.6770833333333334\n",
      "    Gen. Acc, Angle = 210: 0.5870535714285714\n",
      "    Gen. Acc, Angle = 240: 0.5885416666666666\n",
      "    Gen. Acc, Angle = 270: 0.5766369047619048\n",
      "    Gen. Acc, Angle = 300: 0.6822916666666666\n",
      "    Gen. Acc, Angle = 330: 0.8162202380952381\n"
     ]
    },
    {
     "name": "stderr",
     "output_type": "stream",
     "text": [
      "100%|██████████| 168/168 [00:07<00:00, 21.72it/s]"
     ]
    },
    {
     "name": "stdout",
     "output_type": "stream",
     "text": [
      "Epoch 17/20, Training Accuracy: 0.9823288690476191\n"
     ]
    },
    {
     "name": "stderr",
     "output_type": "stream",
     "text": [
      "\n"
     ]
    },
    {
     "name": "stdout",
     "output_type": "stream",
     "text": [
      "    Gen. Acc, Angle = 0: 0.9761904761904762\n",
      "    Gen. Acc, Angle = 30: 0.8050595238095238\n",
      "    Gen. Acc, Angle = 60: 0.6882440476190477\n",
      "    Gen. Acc, Angle = 90: 0.6793154761904762\n",
      "    Gen. Acc, Angle = 120: 0.7462797619047619\n",
      "    Gen. Acc, Angle = 150: 0.6532738095238095\n",
      "    Gen. Acc, Angle = 180: 0.7023809523809523\n",
      "    Gen. Acc, Angle = 210: 0.6428571428571429\n",
      "    Gen. Acc, Angle = 240: 0.625\n",
      "    Gen. Acc, Angle = 270: 0.5833333333333334\n",
      "    Gen. Acc, Angle = 300: 0.6889880952380952\n",
      "    Gen. Acc, Angle = 330: 0.7663690476190477\n"
     ]
    },
    {
     "name": "stderr",
     "output_type": "stream",
     "text": [
      "100%|██████████| 168/168 [00:07<00:00, 21.72it/s]"
     ]
    },
    {
     "name": "stdout",
     "output_type": "stream",
     "text": [
      "Epoch 18/20, Training Accuracy: 0.9875372023809523\n"
     ]
    },
    {
     "name": "stderr",
     "output_type": "stream",
     "text": [
      "\n"
     ]
    },
    {
     "name": "stdout",
     "output_type": "stream",
     "text": [
      "    Gen. Acc, Angle = 0: 0.9732142857142857\n",
      "    Gen. Acc, Angle = 30: 0.7760416666666666\n",
      "    Gen. Acc, Angle = 60: 0.6867559523809523\n",
      "    Gen. Acc, Angle = 90: 0.6837797619047619\n",
      "    Gen. Acc, Angle = 120: 0.7581845238095238\n",
      "    Gen. Acc, Angle = 150: 0.6257440476190477\n",
      "    Gen. Acc, Angle = 180: 0.6383928571428571\n",
      "    Gen. Acc, Angle = 210: 0.5982142857142857\n",
      "    Gen. Acc, Angle = 240: 0.6205357142857143\n",
      "    Gen. Acc, Angle = 270: 0.6168154761904762\n",
      "    Gen. Acc, Angle = 300: 0.7232142857142857\n",
      "    Gen. Acc, Angle = 330: 0.7983630952380952\n"
     ]
    },
    {
     "name": "stderr",
     "output_type": "stream",
     "text": [
      "100%|██████████| 168/168 [00:07<00:00, 21.63it/s]"
     ]
    },
    {
     "name": "stdout",
     "output_type": "stream",
     "text": [
      "Epoch 19/20, Training Accuracy: 0.9856770833333334\n"
     ]
    },
    {
     "name": "stderr",
     "output_type": "stream",
     "text": [
      "\n"
     ]
    },
    {
     "name": "stdout",
     "output_type": "stream",
     "text": [
      "    Gen. Acc, Angle = 0: 0.984375\n",
      "    Gen. Acc, Angle = 30: 0.8206845238095238\n",
      "    Gen. Acc, Angle = 60: 0.6912202380952381\n",
      "    Gen. Acc, Angle = 90: 0.6688988095238095\n",
      "    Gen. Acc, Angle = 120: 0.7455357142857143\n",
      "    Gen. Acc, Angle = 150: 0.6696428571428571\n",
      "    Gen. Acc, Angle = 180: 0.7269345238095238\n",
      "    Gen. Acc, Angle = 210: 0.6473214285714286\n",
      "    Gen. Acc, Angle = 240: 0.6175595238095238\n",
      "    Gen. Acc, Angle = 270: 0.6235119047619048\n",
      "    Gen. Acc, Angle = 300: 0.7232142857142857\n",
      "    Gen. Acc, Angle = 330: 0.8370535714285714\n"
     ]
    },
    {
     "name": "stderr",
     "output_type": "stream",
     "text": [
      "100%|██████████| 168/168 [00:07<00:00, 21.87it/s]"
     ]
    },
    {
     "name": "stdout",
     "output_type": "stream",
     "text": [
      "Epoch 20/20, Training Accuracy: 0.9912574404761905\n"
     ]
    },
    {
     "name": "stderr",
     "output_type": "stream",
     "text": [
      "\n"
     ]
    },
    {
     "name": "stdout",
     "output_type": "stream",
     "text": [
      "    Gen. Acc, Angle = 0: 0.9717261904761905\n",
      "    Gen. Acc, Angle = 30: 0.8928571428571429\n",
      "    Gen. Acc, Angle = 60: 0.8184523809523809\n",
      "    Gen. Acc, Angle = 90: 0.7641369047619048\n",
      "    Gen. Acc, Angle = 120: 0.8385416666666666\n",
      "    Gen. Acc, Angle = 150: 0.7946428571428571\n",
      "    Gen. Acc, Angle = 180: 0.84375\n",
      "    Gen. Acc, Angle = 210: 0.7633928571428571\n",
      "    Gen. Acc, Angle = 240: 0.7150297619047619\n",
      "    Gen. Acc, Angle = 270: 0.7782738095238095\n",
      "    Gen. Acc, Angle = 300: 0.8452380952380952\n",
      "    Gen. Acc, Angle = 330: 0.9077380952380952\n"
     ]
    }
   ],
   "source": [
    "print(\"Training Standard, No Augment\")\n",
    "no_augment_model = StandardCNN().to(device)\n",
    "no_augment_criterion = nn.BCEWithLogitsLoss() \n",
    "no_augment_optimizer = torch.optim.Adam(no_augment_model.parameters(), lr=0.001, weight_decay=0.001)\n",
    "no_augment_trainacc, no_augment_genacc = run_binary(NUM_EPOCHS, no_augment_model, \n",
    "                    no_augment_criterion, no_augment_optimizer,\n",
    "                    base_train_loader, test_loader_per_rotation)"
   ]
  },
  {
   "cell_type": "code",
   "execution_count": 13,
   "metadata": {},
   "outputs": [
    {
     "name": "stdout",
     "output_type": "stream",
     "text": [
      "Training Standard, Augment\n"
     ]
    },
    {
     "name": "stderr",
     "output_type": "stream",
     "text": [
      "100%|██████████| 168/168 [00:07<00:00, 21.07it/s]"
     ]
    },
    {
     "name": "stdout",
     "output_type": "stream",
     "text": [
      "Epoch 1/20, Training Accuracy: 0.8392857142857143\n"
     ]
    },
    {
     "name": "stderr",
     "output_type": "stream",
     "text": [
      "\n"
     ]
    },
    {
     "name": "stdout",
     "output_type": "stream",
     "text": [
      "    Gen. Acc, Angle = 0: 0.8846726190476191\n",
      "    Gen. Acc, Angle = 30: 0.8988095238095238\n",
      "    Gen. Acc, Angle = 60: 0.8869047619047619\n",
      "    Gen. Acc, Angle = 90: 0.8616071428571429\n",
      "    Gen. Acc, Angle = 120: 0.8601190476190477\n",
      "    Gen. Acc, Angle = 150: 0.8720238095238095\n",
      "    Gen. Acc, Angle = 180: 0.8824404761904762\n",
      "    Gen. Acc, Angle = 210: 0.8965773809523809\n",
      "    Gen. Acc, Angle = 240: 0.8854166666666666\n",
      "    Gen. Acc, Angle = 270: 0.8616071428571429\n",
      "    Gen. Acc, Angle = 300: 0.8623511904761905\n",
      "    Gen. Acc, Angle = 330: 0.8675595238095238\n"
     ]
    },
    {
     "name": "stderr",
     "output_type": "stream",
     "text": [
      "100%|██████████| 168/168 [00:07<00:00, 21.69it/s]"
     ]
    },
    {
     "name": "stdout",
     "output_type": "stream",
     "text": [
      "Epoch 2/20, Training Accuracy: 0.9038318452380952\n"
     ]
    },
    {
     "name": "stderr",
     "output_type": "stream",
     "text": [
      "\n"
     ]
    },
    {
     "name": "stdout",
     "output_type": "stream",
     "text": [
      "    Gen. Acc, Angle = 0: 0.9144345238095238\n",
      "    Gen. Acc, Angle = 30: 0.9278273809523809\n",
      "    Gen. Acc, Angle = 60: 0.9188988095238095\n",
      "    Gen. Acc, Angle = 90: 0.9107142857142857\n",
      "    Gen. Acc, Angle = 120: 0.9226190476190477\n",
      "    Gen. Acc, Angle = 150: 0.9300595238095238\n",
      "    Gen. Acc, Angle = 180: 0.9159226190476191\n",
      "    Gen. Acc, Angle = 210: 0.9308035714285714\n",
      "    Gen. Acc, Angle = 240: 0.9248511904761905\n",
      "    Gen. Acc, Angle = 270: 0.9084821428571429\n",
      "    Gen. Acc, Angle = 300: 0.9278273809523809\n",
      "    Gen. Acc, Angle = 330: 0.9300595238095238\n"
     ]
    },
    {
     "name": "stderr",
     "output_type": "stream",
     "text": [
      "100%|██████████| 168/168 [00:07<00:00, 21.65it/s]"
     ]
    },
    {
     "name": "stdout",
     "output_type": "stream",
     "text": [
      "Epoch 3/20, Training Accuracy: 0.9194568452380952\n"
     ]
    },
    {
     "name": "stderr",
     "output_type": "stream",
     "text": [
      "\n"
     ]
    },
    {
     "name": "stdout",
     "output_type": "stream",
     "text": [
      "    Gen. Acc, Angle = 0: 0.9315476190476191\n",
      "    Gen. Acc, Angle = 30: 0.9367559523809523\n",
      "    Gen. Acc, Angle = 60: 0.9345238095238095\n",
      "    Gen. Acc, Angle = 90: 0.9203869047619048\n",
      "    Gen. Acc, Angle = 120: 0.9330357142857143\n",
      "    Gen. Acc, Angle = 150: 0.9412202380952381\n",
      "    Gen. Acc, Angle = 180: 0.9337797619047619\n",
      "    Gen. Acc, Angle = 210: 0.9397321428571429\n",
      "    Gen. Acc, Angle = 240: 0.9345238095238095\n",
      "    Gen. Acc, Angle = 270: 0.921875\n",
      "    Gen. Acc, Angle = 300: 0.9375\n",
      "    Gen. Acc, Angle = 330: 0.9427083333333334\n"
     ]
    },
    {
     "name": "stderr",
     "output_type": "stream",
     "text": [
      "100%|██████████| 168/168 [00:07<00:00, 21.61it/s]"
     ]
    },
    {
     "name": "stdout",
     "output_type": "stream",
     "text": [
      "Epoch 4/20, Training Accuracy: 0.9330357142857143\n"
     ]
    },
    {
     "name": "stderr",
     "output_type": "stream",
     "text": [
      "\n"
     ]
    },
    {
     "name": "stdout",
     "output_type": "stream",
     "text": [
      "    Gen. Acc, Angle = 0: 0.9523809523809523\n",
      "    Gen. Acc, Angle = 30: 0.9501488095238095\n",
      "    Gen. Acc, Angle = 60: 0.9494047619047619\n",
      "    Gen. Acc, Angle = 90: 0.9494047619047619\n",
      "    Gen. Acc, Angle = 120: 0.9501488095238095\n",
      "    Gen. Acc, Angle = 150: 0.9501488095238095\n",
      "    Gen. Acc, Angle = 180: 0.9494047619047619\n",
      "    Gen. Acc, Angle = 210: 0.9464285714285714\n",
      "    Gen. Acc, Angle = 240: 0.9471726190476191\n",
      "    Gen. Acc, Angle = 270: 0.9479166666666666\n",
      "    Gen. Acc, Angle = 300: 0.9427083333333334\n",
      "    Gen. Acc, Angle = 330: 0.9516369047619048\n"
     ]
    },
    {
     "name": "stderr",
     "output_type": "stream",
     "text": [
      "100%|██████████| 168/168 [00:07<00:00, 21.64it/s]"
     ]
    },
    {
     "name": "stdout",
     "output_type": "stream",
     "text": [
      "Epoch 5/20, Training Accuracy: 0.9263392857142857\n"
     ]
    },
    {
     "name": "stderr",
     "output_type": "stream",
     "text": [
      "\n"
     ]
    },
    {
     "name": "stdout",
     "output_type": "stream",
     "text": [
      "    Gen. Acc, Angle = 0: 0.9568452380952381\n",
      "    Gen. Acc, Angle = 30: 0.9538690476190477\n",
      "    Gen. Acc, Angle = 60: 0.9397321428571429\n",
      "    Gen. Acc, Angle = 90: 0.9427083333333334\n",
      "    Gen. Acc, Angle = 120: 0.9419642857142857\n",
      "    Gen. Acc, Angle = 150: 0.9456845238095238\n",
      "    Gen. Acc, Angle = 180: 0.9523809523809523\n",
      "    Gen. Acc, Angle = 210: 0.9441964285714286\n",
      "    Gen. Acc, Angle = 240: 0.9345238095238095\n",
      "    Gen. Acc, Angle = 270: 0.9412202380952381\n",
      "    Gen. Acc, Angle = 300: 0.9412202380952381\n",
      "    Gen. Acc, Angle = 330: 0.953125\n"
     ]
    },
    {
     "name": "stderr",
     "output_type": "stream",
     "text": [
      "100%|██████████| 168/168 [00:07<00:00, 21.61it/s]"
     ]
    },
    {
     "name": "stdout",
     "output_type": "stream",
     "text": [
      "Epoch 6/20, Training Accuracy: 0.9445684523809523\n"
     ]
    },
    {
     "name": "stderr",
     "output_type": "stream",
     "text": [
      "\n"
     ]
    },
    {
     "name": "stdout",
     "output_type": "stream",
     "text": [
      "    Gen. Acc, Angle = 0: 0.9568452380952381\n",
      "    Gen. Acc, Angle = 30: 0.9434523809523809\n",
      "    Gen. Acc, Angle = 60: 0.9345238095238095\n",
      "    Gen. Acc, Angle = 90: 0.9456845238095238\n",
      "    Gen. Acc, Angle = 120: 0.9538690476190477\n",
      "    Gen. Acc, Angle = 150: 0.9516369047619048\n",
      "    Gen. Acc, Angle = 180: 0.9441964285714286\n",
      "    Gen. Acc, Angle = 210: 0.9382440476190477\n",
      "    Gen. Acc, Angle = 240: 0.9367559523809523\n",
      "    Gen. Acc, Angle = 270: 0.9479166666666666\n",
      "    Gen. Acc, Angle = 300: 0.9501488095238095\n",
      "    Gen. Acc, Angle = 330: 0.9471726190476191\n"
     ]
    },
    {
     "name": "stderr",
     "output_type": "stream",
     "text": [
      "100%|██████████| 168/168 [00:07<00:00, 21.58it/s]"
     ]
    },
    {
     "name": "stdout",
     "output_type": "stream",
     "text": [
      "Epoch 7/20, Training Accuracy: 0.9402901785714286\n"
     ]
    },
    {
     "name": "stderr",
     "output_type": "stream",
     "text": [
      "\n"
     ]
    },
    {
     "name": "stdout",
     "output_type": "stream",
     "text": [
      "    Gen. Acc, Angle = 0: 0.9456845238095238\n",
      "    Gen. Acc, Angle = 30: 0.9464285714285714\n",
      "    Gen. Acc, Angle = 60: 0.9449404761904762\n",
      "    Gen. Acc, Angle = 90: 0.9389880952380952\n",
      "    Gen. Acc, Angle = 120: 0.9419642857142857\n",
      "    Gen. Acc, Angle = 150: 0.9441964285714286\n",
      "    Gen. Acc, Angle = 180: 0.9419642857142857\n",
      "    Gen. Acc, Angle = 210: 0.9523809523809523\n",
      "    Gen. Acc, Angle = 240: 0.9479166666666666\n",
      "    Gen. Acc, Angle = 270: 0.9427083333333334\n",
      "    Gen. Acc, Angle = 300: 0.9441964285714286\n",
      "    Gen. Acc, Angle = 330: 0.9464285714285714\n"
     ]
    },
    {
     "name": "stderr",
     "output_type": "stream",
     "text": [
      "100%|██████████| 168/168 [00:07<00:00, 21.65it/s]"
     ]
    },
    {
     "name": "stdout",
     "output_type": "stream",
     "text": [
      "Epoch 8/20, Training Accuracy: 0.9430803571428571\n"
     ]
    },
    {
     "name": "stderr",
     "output_type": "stream",
     "text": [
      "\n"
     ]
    },
    {
     "name": "stdout",
     "output_type": "stream",
     "text": [
      "    Gen. Acc, Angle = 0: 0.9352678571428571\n",
      "    Gen. Acc, Angle = 30: 0.9382440476190477\n",
      "    Gen. Acc, Angle = 60: 0.9360119047619048\n",
      "    Gen. Acc, Angle = 90: 0.9330357142857143\n",
      "    Gen. Acc, Angle = 120: 0.9404761904761905\n",
      "    Gen. Acc, Angle = 150: 0.9375\n",
      "    Gen. Acc, Angle = 180: 0.9308035714285714\n",
      "    Gen. Acc, Angle = 210: 0.9404761904761905\n",
      "    Gen. Acc, Angle = 240: 0.9427083333333334\n",
      "    Gen. Acc, Angle = 270: 0.9337797619047619\n",
      "    Gen. Acc, Angle = 300: 0.9389880952380952\n",
      "    Gen. Acc, Angle = 330: 0.9419642857142857\n"
     ]
    },
    {
     "name": "stderr",
     "output_type": "stream",
     "text": [
      "100%|██████████| 168/168 [00:07<00:00, 21.58it/s]"
     ]
    },
    {
     "name": "stdout",
     "output_type": "stream",
     "text": [
      "Epoch 9/20, Training Accuracy: 0.9427083333333334\n"
     ]
    },
    {
     "name": "stderr",
     "output_type": "stream",
     "text": [
      "\n"
     ]
    },
    {
     "name": "stdout",
     "output_type": "stream",
     "text": [
      "    Gen. Acc, Angle = 0: 0.9561011904761905\n",
      "    Gen. Acc, Angle = 30: 0.9642857142857143\n",
      "    Gen. Acc, Angle = 60: 0.9605654761904762\n",
      "    Gen. Acc, Angle = 90: 0.9605654761904762\n",
      "    Gen. Acc, Angle = 120: 0.9635416666666666\n",
      "    Gen. Acc, Angle = 150: 0.9642857142857143\n",
      "    Gen. Acc, Angle = 180: 0.9583333333333334\n",
      "    Gen. Acc, Angle = 210: 0.9613095238095238\n",
      "    Gen. Acc, Angle = 240: 0.9575892857142857\n",
      "    Gen. Acc, Angle = 270: 0.9561011904761905\n",
      "    Gen. Acc, Angle = 300: 0.9605654761904762\n",
      "    Gen. Acc, Angle = 330: 0.9605654761904762\n"
     ]
    },
    {
     "name": "stderr",
     "output_type": "stream",
     "text": [
      "100%|██████████| 168/168 [00:07<00:00, 21.53it/s]"
     ]
    },
    {
     "name": "stdout",
     "output_type": "stream",
     "text": [
      "Epoch 10/20, Training Accuracy: 0.9443824404761905\n"
     ]
    },
    {
     "name": "stderr",
     "output_type": "stream",
     "text": [
      "\n"
     ]
    },
    {
     "name": "stdout",
     "output_type": "stream",
     "text": [
      "    Gen. Acc, Angle = 0: 0.9605654761904762\n",
      "    Gen. Acc, Angle = 30: 0.9620535714285714\n",
      "    Gen. Acc, Angle = 60: 0.9627976190476191\n",
      "    Gen. Acc, Angle = 90: 0.9613095238095238\n",
      "    Gen. Acc, Angle = 120: 0.9650297619047619\n",
      "    Gen. Acc, Angle = 150: 0.9605654761904762\n",
      "    Gen. Acc, Angle = 180: 0.9613095238095238\n",
      "    Gen. Acc, Angle = 210: 0.9620535714285714\n",
      "    Gen. Acc, Angle = 240: 0.9598214285714286\n",
      "    Gen. Acc, Angle = 270: 0.9598214285714286\n",
      "    Gen. Acc, Angle = 300: 0.9650297619047619\n",
      "    Gen. Acc, Angle = 330: 0.9642857142857143\n"
     ]
    },
    {
     "name": "stderr",
     "output_type": "stream",
     "text": [
      "100%|██████████| 168/168 [00:07<00:00, 21.60it/s]"
     ]
    },
    {
     "name": "stdout",
     "output_type": "stream",
     "text": [
      "Epoch 11/20, Training Accuracy: 0.9473586309523809\n"
     ]
    },
    {
     "name": "stderr",
     "output_type": "stream",
     "text": [
      "\n"
     ]
    },
    {
     "name": "stdout",
     "output_type": "stream",
     "text": [
      "    Gen. Acc, Angle = 0: 0.9441964285714286\n",
      "    Gen. Acc, Angle = 30: 0.9412202380952381\n",
      "    Gen. Acc, Angle = 60: 0.9427083333333334\n",
      "    Gen. Acc, Angle = 90: 0.9404761904761905\n",
      "    Gen. Acc, Angle = 120: 0.9486607142857143\n",
      "    Gen. Acc, Angle = 150: 0.9441964285714286\n",
      "    Gen. Acc, Angle = 180: 0.9434523809523809\n",
      "    Gen. Acc, Angle = 210: 0.9464285714285714\n",
      "    Gen. Acc, Angle = 240: 0.9464285714285714\n",
      "    Gen. Acc, Angle = 270: 0.9397321428571429\n",
      "    Gen. Acc, Angle = 300: 0.9434523809523809\n",
      "    Gen. Acc, Angle = 330: 0.9456845238095238\n"
     ]
    },
    {
     "name": "stderr",
     "output_type": "stream",
     "text": [
      "100%|██████████| 168/168 [00:07<00:00, 21.61it/s]"
     ]
    },
    {
     "name": "stdout",
     "output_type": "stream",
     "text": [
      "Epoch 12/20, Training Accuracy: 0.9443824404761905\n"
     ]
    },
    {
     "name": "stderr",
     "output_type": "stream",
     "text": [
      "\n"
     ]
    },
    {
     "name": "stdout",
     "output_type": "stream",
     "text": [
      "    Gen. Acc, Angle = 0: 0.9553571428571429\n",
      "    Gen. Acc, Angle = 30: 0.9605654761904762\n",
      "    Gen. Acc, Angle = 60: 0.9583333333333334\n",
      "    Gen. Acc, Angle = 90: 0.9583333333333334\n",
      "    Gen. Acc, Angle = 120: 0.9575892857142857\n",
      "    Gen. Acc, Angle = 150: 0.9516369047619048\n",
      "    Gen. Acc, Angle = 180: 0.9575892857142857\n",
      "    Gen. Acc, Angle = 210: 0.9590773809523809\n",
      "    Gen. Acc, Angle = 240: 0.9598214285714286\n",
      "    Gen. Acc, Angle = 270: 0.9575892857142857\n",
      "    Gen. Acc, Angle = 300: 0.9561011904761905\n",
      "    Gen. Acc, Angle = 330: 0.9501488095238095\n"
     ]
    },
    {
     "name": "stderr",
     "output_type": "stream",
     "text": [
      "100%|██████████| 168/168 [00:07<00:00, 21.60it/s]"
     ]
    },
    {
     "name": "stdout",
     "output_type": "stream",
     "text": [
      "Epoch 13/20, Training Accuracy: 0.9520089285714286\n"
     ]
    },
    {
     "name": "stderr",
     "output_type": "stream",
     "text": [
      "\n"
     ]
    },
    {
     "name": "stdout",
     "output_type": "stream",
     "text": [
      "    Gen. Acc, Angle = 0: 0.9397321428571429\n",
      "    Gen. Acc, Angle = 30: 0.9419642857142857\n",
      "    Gen. Acc, Angle = 60: 0.9389880952380952\n",
      "    Gen. Acc, Angle = 90: 0.9397321428571429\n",
      "    Gen. Acc, Angle = 120: 0.9412202380952381\n",
      "    Gen. Acc, Angle = 150: 0.9441964285714286\n",
      "    Gen. Acc, Angle = 180: 0.9427083333333334\n",
      "    Gen. Acc, Angle = 210: 0.9479166666666666\n",
      "    Gen. Acc, Angle = 240: 0.9427083333333334\n",
      "    Gen. Acc, Angle = 270: 0.9449404761904762\n",
      "    Gen. Acc, Angle = 300: 0.9404761904761905\n",
      "    Gen. Acc, Angle = 330: 0.9434523809523809\n"
     ]
    },
    {
     "name": "stderr",
     "output_type": "stream",
     "text": [
      "100%|██████████| 168/168 [00:07<00:00, 21.62it/s]"
     ]
    },
    {
     "name": "stdout",
     "output_type": "stream",
     "text": [
      "Epoch 14/20, Training Accuracy: 0.9440104166666666\n"
     ]
    },
    {
     "name": "stderr",
     "output_type": "stream",
     "text": [
      "\n"
     ]
    },
    {
     "name": "stdout",
     "output_type": "stream",
     "text": [
      "    Gen. Acc, Angle = 0: 0.9516369047619048\n",
      "    Gen. Acc, Angle = 30: 0.9598214285714286\n",
      "    Gen. Acc, Angle = 60: 0.9561011904761905\n",
      "    Gen. Acc, Angle = 90: 0.9516369047619048\n",
      "    Gen. Acc, Angle = 120: 0.9583333333333334\n",
      "    Gen. Acc, Angle = 150: 0.9561011904761905\n",
      "    Gen. Acc, Angle = 180: 0.9516369047619048\n",
      "    Gen. Acc, Angle = 210: 0.9561011904761905\n",
      "    Gen. Acc, Angle = 240: 0.9605654761904762\n",
      "    Gen. Acc, Angle = 270: 0.9508928571428571\n",
      "    Gen. Acc, Angle = 300: 0.9561011904761905\n",
      "    Gen. Acc, Angle = 330: 0.9523809523809523\n"
     ]
    },
    {
     "name": "stderr",
     "output_type": "stream",
     "text": [
      "100%|██████████| 168/168 [00:07<00:00, 21.60it/s]"
     ]
    },
    {
     "name": "stdout",
     "output_type": "stream",
     "text": [
      "Epoch 15/20, Training Accuracy: 0.9453125\n"
     ]
    },
    {
     "name": "stderr",
     "output_type": "stream",
     "text": [
      "\n"
     ]
    },
    {
     "name": "stdout",
     "output_type": "stream",
     "text": [
      "    Gen. Acc, Angle = 0: 0.9561011904761905\n",
      "    Gen. Acc, Angle = 30: 0.9583333333333334\n",
      "    Gen. Acc, Angle = 60: 0.9613095238095238\n",
      "    Gen. Acc, Angle = 90: 0.9635416666666666\n",
      "    Gen. Acc, Angle = 120: 0.9590773809523809\n",
      "    Gen. Acc, Angle = 150: 0.9583333333333334\n",
      "    Gen. Acc, Angle = 180: 0.9516369047619048\n",
      "    Gen. Acc, Angle = 210: 0.9568452380952381\n",
      "    Gen. Acc, Angle = 240: 0.9561011904761905\n",
      "    Gen. Acc, Angle = 270: 0.9575892857142857\n",
      "    Gen. Acc, Angle = 300: 0.9568452380952381\n",
      "    Gen. Acc, Angle = 330: 0.9575892857142857\n"
     ]
    },
    {
     "name": "stderr",
     "output_type": "stream",
     "text": [
      "100%|██████████| 168/168 [00:07<00:00, 21.58it/s]"
     ]
    },
    {
     "name": "stdout",
     "output_type": "stream",
     "text": [
      "Epoch 16/20, Training Accuracy: 0.9495907738095238\n"
     ]
    },
    {
     "name": "stderr",
     "output_type": "stream",
     "text": [
      "\n"
     ]
    },
    {
     "name": "stdout",
     "output_type": "stream",
     "text": [
      "    Gen. Acc, Angle = 0: 0.9516369047619048\n",
      "    Gen. Acc, Angle = 30: 0.9546130952380952\n",
      "    Gen. Acc, Angle = 60: 0.9516369047619048\n",
      "    Gen. Acc, Angle = 90: 0.9508928571428571\n",
      "    Gen. Acc, Angle = 120: 0.9553571428571429\n",
      "    Gen. Acc, Angle = 150: 0.9516369047619048\n",
      "    Gen. Acc, Angle = 180: 0.9486607142857143\n",
      "    Gen. Acc, Angle = 210: 0.9523809523809523\n",
      "    Gen. Acc, Angle = 240: 0.9508928571428571\n",
      "    Gen. Acc, Angle = 270: 0.9494047619047619\n",
      "    Gen. Acc, Angle = 300: 0.9590773809523809\n",
      "    Gen. Acc, Angle = 330: 0.9553571428571429\n"
     ]
    },
    {
     "name": "stderr",
     "output_type": "stream",
     "text": [
      "100%|██████████| 168/168 [00:07<00:00, 21.58it/s]"
     ]
    },
    {
     "name": "stdout",
     "output_type": "stream",
     "text": [
      "Epoch 17/20, Training Accuracy: 0.9508928571428571\n"
     ]
    },
    {
     "name": "stderr",
     "output_type": "stream",
     "text": [
      "\n"
     ]
    },
    {
     "name": "stdout",
     "output_type": "stream",
     "text": [
      "    Gen. Acc, Angle = 0: 0.9568452380952381\n",
      "    Gen. Acc, Angle = 30: 0.9598214285714286\n",
      "    Gen. Acc, Angle = 60: 0.9590773809523809\n",
      "    Gen. Acc, Angle = 90: 0.9494047619047619\n",
      "    Gen. Acc, Angle = 120: 0.9553571428571429\n",
      "    Gen. Acc, Angle = 150: 0.9553571428571429\n",
      "    Gen. Acc, Angle = 180: 0.9508928571428571\n",
      "    Gen. Acc, Angle = 210: 0.9538690476190477\n",
      "    Gen. Acc, Angle = 240: 0.953125\n",
      "    Gen. Acc, Angle = 270: 0.9456845238095238\n",
      "    Gen. Acc, Angle = 300: 0.9538690476190477\n",
      "    Gen. Acc, Angle = 330: 0.9598214285714286\n"
     ]
    },
    {
     "name": "stderr",
     "output_type": "stream",
     "text": [
      "100%|██████████| 168/168 [00:07<00:00, 21.60it/s]"
     ]
    },
    {
     "name": "stdout",
     "output_type": "stream",
     "text": [
      "Epoch 18/20, Training Accuracy: 0.953125\n"
     ]
    },
    {
     "name": "stderr",
     "output_type": "stream",
     "text": [
      "\n"
     ]
    },
    {
     "name": "stdout",
     "output_type": "stream",
     "text": [
      "    Gen. Acc, Angle = 0: 0.9561011904761905\n",
      "    Gen. Acc, Angle = 30: 0.9575892857142857\n",
      "    Gen. Acc, Angle = 60: 0.9561011904761905\n",
      "    Gen. Acc, Angle = 90: 0.9553571428571429\n",
      "    Gen. Acc, Angle = 120: 0.9575892857142857\n",
      "    Gen. Acc, Angle = 150: 0.9568452380952381\n",
      "    Gen. Acc, Angle = 180: 0.9508928571428571\n",
      "    Gen. Acc, Angle = 210: 0.9546130952380952\n",
      "    Gen. Acc, Angle = 240: 0.9561011904761905\n",
      "    Gen. Acc, Angle = 270: 0.9575892857142857\n",
      "    Gen. Acc, Angle = 300: 0.9590773809523809\n",
      "    Gen. Acc, Angle = 330: 0.9583333333333334\n"
     ]
    },
    {
     "name": "stderr",
     "output_type": "stream",
     "text": [
      "100%|██████████| 168/168 [00:07<00:00, 21.58it/s]"
     ]
    },
    {
     "name": "stdout",
     "output_type": "stream",
     "text": [
      "Epoch 19/20, Training Accuracy: 0.9486607142857143\n"
     ]
    },
    {
     "name": "stderr",
     "output_type": "stream",
     "text": [
      "\n"
     ]
    },
    {
     "name": "stdout",
     "output_type": "stream",
     "text": [
      "    Gen. Acc, Angle = 0: 0.9523809523809523\n",
      "    Gen. Acc, Angle = 30: 0.9546130952380952\n",
      "    Gen. Acc, Angle = 60: 0.9575892857142857\n",
      "    Gen. Acc, Angle = 90: 0.9546130952380952\n",
      "    Gen. Acc, Angle = 120: 0.9590773809523809\n",
      "    Gen. Acc, Angle = 150: 0.9575892857142857\n",
      "    Gen. Acc, Angle = 180: 0.9538690476190477\n",
      "    Gen. Acc, Angle = 210: 0.9553571428571429\n",
      "    Gen. Acc, Angle = 240: 0.9613095238095238\n",
      "    Gen. Acc, Angle = 270: 0.9568452380952381\n",
      "    Gen. Acc, Angle = 300: 0.9590773809523809\n",
      "    Gen. Acc, Angle = 330: 0.9583333333333334\n"
     ]
    },
    {
     "name": "stderr",
     "output_type": "stream",
     "text": [
      "100%|██████████| 168/168 [00:07<00:00, 21.67it/s]"
     ]
    },
    {
     "name": "stdout",
     "output_type": "stream",
     "text": [
      "Epoch 20/20, Training Accuracy: 0.9521949404761905\n"
     ]
    },
    {
     "name": "stderr",
     "output_type": "stream",
     "text": [
      "\n"
     ]
    },
    {
     "name": "stdout",
     "output_type": "stream",
     "text": [
      "    Gen. Acc, Angle = 0: 0.9657738095238095\n",
      "    Gen. Acc, Angle = 30: 0.9598214285714286\n",
      "    Gen. Acc, Angle = 60: 0.9583333333333334\n",
      "    Gen. Acc, Angle = 90: 0.9613095238095238\n",
      "    Gen. Acc, Angle = 120: 0.9598214285714286\n",
      "    Gen. Acc, Angle = 150: 0.9613095238095238\n",
      "    Gen. Acc, Angle = 180: 0.9583333333333334\n",
      "    Gen. Acc, Angle = 210: 0.9568452380952381\n",
      "    Gen. Acc, Angle = 240: 0.9590773809523809\n",
      "    Gen. Acc, Angle = 270: 0.9575892857142857\n",
      "    Gen. Acc, Angle = 300: 0.9627976190476191\n",
      "    Gen. Acc, Angle = 330: 0.9627976190476191\n"
     ]
    }
   ],
   "source": [
    "print(\"Training Standard, Augment\")\n",
    "augment_model = StandardCNN().to(device)\n",
    "augment_criterion = nn.BCEWithLogitsLoss()  # Suitable for multiclass\n",
    "augment_optimizer = torch.optim.Adam(augment_model.parameters(), lr=0.001, weight_decay=0.001)\n",
    "augment_trainacc, augment_genacc = run_binary(NUM_EPOCHS, augment_model, \n",
    "                    augment_criterion, augment_optimizer,\n",
    "                    rotated_train_loader, test_loader_per_rotation)"
   ]
  },
  {
   "cell_type": "code",
   "execution_count": 14,
   "metadata": {},
   "outputs": [
    {
     "name": "stderr",
     "output_type": "stream",
     "text": [
      "/home/rnoh/envs/python/datasci/lib/python3.10/site-packages/torch/functional.py:507: UserWarning: torch.meshgrid: in an upcoming release, it will be required to pass the indexing argument. (Triggered internally at ../aten/src/ATen/native/TensorShape.cpp:3549.)\n",
      "  return _VF.meshgrid(tensors, **kwargs)  # type: ignore[attr-defined]\n"
     ]
    },
    {
     "name": "stdout",
     "output_type": "stream",
     "text": [
      "Training RIC-CNN, No Augment\n"
     ]
    },
    {
     "name": "stderr",
     "output_type": "stream",
     "text": [
      "100%|██████████| 168/168 [00:31<00:00,  5.27it/s]"
     ]
    },
    {
     "name": "stdout",
     "output_type": "stream",
     "text": [
      "Epoch 1/20, Training Accuracy: 0.8898809523809523\n"
     ]
    },
    {
     "name": "stderr",
     "output_type": "stream",
     "text": [
      "\n"
     ]
    },
    {
     "name": "stdout",
     "output_type": "stream",
     "text": [
      "    Gen. Acc, Angle = 0: 0.9546130952380952\n",
      "    Gen. Acc, Angle = 30: 0.7120535714285714\n",
      "    Gen. Acc, Angle = 60: 0.5639880952380952\n",
      "    Gen. Acc, Angle = 90: 0.48214285714285715\n",
      "    Gen. Acc, Angle = 120: 0.5498511904761905\n",
      "    Gen. Acc, Angle = 150: 0.5379464285714286\n",
      "    Gen. Acc, Angle = 180: 0.5803571428571429\n",
      "    Gen. Acc, Angle = 210: 0.49851190476190477\n",
      "    Gen. Acc, Angle = 240: 0.5453869047619048\n",
      "    Gen. Acc, Angle = 270: 0.5171130952380952\n",
      "    Gen. Acc, Angle = 300: 0.6941964285714286\n",
      "    Gen. Acc, Angle = 330: 0.8117559523809523\n"
     ]
    },
    {
     "name": "stderr",
     "output_type": "stream",
     "text": [
      "100%|██████████| 168/168 [00:31<00:00,  5.30it/s]"
     ]
    },
    {
     "name": "stdout",
     "output_type": "stream",
     "text": [
      "Epoch 2/20, Training Accuracy: 0.9482886904761905\n"
     ]
    },
    {
     "name": "stderr",
     "output_type": "stream",
     "text": [
      "\n"
     ]
    },
    {
     "name": "stdout",
     "output_type": "stream",
     "text": [
      "    Gen. Acc, Angle = 0: 0.9620535714285714\n",
      "    Gen. Acc, Angle = 30: 0.7678571428571429\n",
      "    Gen. Acc, Angle = 60: 0.6145833333333334\n",
      "    Gen. Acc, Angle = 90: 0.4851190476190476\n",
      "    Gen. Acc, Angle = 120: 0.5513392857142857\n",
      "    Gen. Acc, Angle = 150: 0.5007440476190477\n",
      "    Gen. Acc, Angle = 180: 0.5267857142857143\n",
      "    Gen. Acc, Angle = 210: 0.5186011904761905\n",
      "    Gen. Acc, Angle = 240: 0.578125\n",
      "    Gen. Acc, Angle = 270: 0.4575892857142857\n",
      "    Gen. Acc, Angle = 300: 0.6235119047619048\n",
      "    Gen. Acc, Angle = 330: 0.8028273809523809\n"
     ]
    },
    {
     "name": "stderr",
     "output_type": "stream",
     "text": [
      "100%|██████████| 168/168 [00:31<00:00,  5.30it/s]"
     ]
    },
    {
     "name": "stdout",
     "output_type": "stream",
     "text": [
      "Epoch 3/20, Training Accuracy: 0.9577752976190477\n"
     ]
    },
    {
     "name": "stderr",
     "output_type": "stream",
     "text": [
      "\n"
     ]
    },
    {
     "name": "stdout",
     "output_type": "stream",
     "text": [
      "    Gen. Acc, Angle = 0: 0.9694940476190477\n",
      "    Gen. Acc, Angle = 30: 0.7566964285714286\n",
      "    Gen. Acc, Angle = 60: 0.6361607142857143\n",
      "    Gen. Acc, Angle = 90: 0.5260416666666666\n",
      "    Gen. Acc, Angle = 120: 0.5944940476190477\n",
      "    Gen. Acc, Angle = 150: 0.5379464285714286\n",
      "    Gen. Acc, Angle = 180: 0.5699404761904762\n",
      "    Gen. Acc, Angle = 210: 0.5505952380952381\n",
      "    Gen. Acc, Angle = 240: 0.6309523809523809\n",
      "    Gen. Acc, Angle = 270: 0.5104166666666666\n",
      "    Gen. Acc, Angle = 300: 0.6078869047619048\n",
      "    Gen. Acc, Angle = 330: 0.7998511904761905\n"
     ]
    },
    {
     "name": "stderr",
     "output_type": "stream",
     "text": [
      "100%|██████████| 168/168 [00:31<00:00,  5.29it/s]"
     ]
    },
    {
     "name": "stdout",
     "output_type": "stream",
     "text": [
      "Epoch 4/20, Training Accuracy: 0.9605654761904762\n"
     ]
    },
    {
     "name": "stderr",
     "output_type": "stream",
     "text": [
      "\n"
     ]
    },
    {
     "name": "stdout",
     "output_type": "stream",
     "text": [
      "    Gen. Acc, Angle = 0: 0.9583333333333334\n",
      "    Gen. Acc, Angle = 30: 0.8854166666666666\n",
      "    Gen. Acc, Angle = 60: 0.7879464285714286\n",
      "    Gen. Acc, Angle = 90: 0.6145833333333334\n",
      "    Gen. Acc, Angle = 120: 0.6532738095238095\n",
      "    Gen. Acc, Angle = 150: 0.6398809523809523\n",
      "    Gen. Acc, Angle = 180: 0.7276785714285714\n",
      "    Gen. Acc, Angle = 210: 0.6949404761904762\n",
      "    Gen. Acc, Angle = 240: 0.7224702380952381\n",
      "    Gen. Acc, Angle = 270: 0.5550595238095238\n",
      "    Gen. Acc, Angle = 300: 0.7410714285714286\n",
      "    Gen. Acc, Angle = 330: 0.8519345238095238\n"
     ]
    },
    {
     "name": "stderr",
     "output_type": "stream",
     "text": [
      "100%|██████████| 168/168 [00:31<00:00,  5.30it/s]"
     ]
    },
    {
     "name": "stdout",
     "output_type": "stream",
     "text": [
      "Epoch 5/20, Training Accuracy: 0.9676339285714286\n"
     ]
    },
    {
     "name": "stderr",
     "output_type": "stream",
     "text": [
      "\n"
     ]
    },
    {
     "name": "stdout",
     "output_type": "stream",
     "text": [
      "    Gen. Acc, Angle = 0: 0.9724702380952381\n",
      "    Gen. Acc, Angle = 30: 0.7872023809523809\n",
      "    Gen. Acc, Angle = 60: 0.7016369047619048\n",
      "    Gen. Acc, Angle = 90: 0.5453869047619048\n",
      "    Gen. Acc, Angle = 120: 0.6078869047619048\n",
      "    Gen. Acc, Angle = 150: 0.5602678571428571\n",
      "    Gen. Acc, Angle = 180: 0.5989583333333334\n",
      "    Gen. Acc, Angle = 210: 0.5863095238095238\n",
      "    Gen. Acc, Angle = 240: 0.6726190476190477\n",
      "    Gen. Acc, Angle = 270: 0.5416666666666666\n",
      "    Gen. Acc, Angle = 300: 0.6971726190476191\n",
      "    Gen. Acc, Angle = 330: 0.7976190476190477\n"
     ]
    },
    {
     "name": "stderr",
     "output_type": "stream",
     "text": [
      "100%|██████████| 168/168 [00:31<00:00,  5.29it/s]"
     ]
    },
    {
     "name": "stdout",
     "output_type": "stream",
     "text": [
      "Epoch 6/20, Training Accuracy: 0.9750744047619048\n"
     ]
    },
    {
     "name": "stderr",
     "output_type": "stream",
     "text": [
      "\n"
     ]
    },
    {
     "name": "stdout",
     "output_type": "stream",
     "text": [
      "    Gen. Acc, Angle = 0: 0.9650297619047619\n",
      "    Gen. Acc, Angle = 30: 0.9136904761904762\n",
      "    Gen. Acc, Angle = 60: 0.8616071428571429\n",
      "    Gen. Acc, Angle = 90: 0.7648809523809523\n",
      "    Gen. Acc, Angle = 120: 0.7559523809523809\n",
      "    Gen. Acc, Angle = 150: 0.7046130952380952\n",
      "    Gen. Acc, Angle = 180: 0.7328869047619048\n",
      "    Gen. Acc, Angle = 210: 0.7462797619047619\n",
      "    Gen. Acc, Angle = 240: 0.8273809523809523\n",
      "    Gen. Acc, Angle = 270: 0.7686011904761905\n",
      "    Gen. Acc, Angle = 300: 0.8526785714285714\n",
      "    Gen. Acc, Angle = 330: 0.9017857142857143\n"
     ]
    },
    {
     "name": "stderr",
     "output_type": "stream",
     "text": [
      "100%|██████████| 168/168 [00:31<00:00,  5.29it/s]"
     ]
    },
    {
     "name": "stdout",
     "output_type": "stream",
     "text": [
      "Epoch 7/20, Training Accuracy: 0.9717261904761905\n"
     ]
    },
    {
     "name": "stderr",
     "output_type": "stream",
     "text": [
      "\n"
     ]
    },
    {
     "name": "stdout",
     "output_type": "stream",
     "text": [
      "    Gen. Acc, Angle = 0: 0.9754464285714286\n",
      "    Gen. Acc, Angle = 30: 0.8355654761904762\n",
      "    Gen. Acc, Angle = 60: 0.7113095238095238\n",
      "    Gen. Acc, Angle = 90: 0.5803571428571429\n",
      "    Gen. Acc, Angle = 120: 0.6532738095238095\n",
      "    Gen. Acc, Angle = 150: 0.5974702380952381\n",
      "    Gen. Acc, Angle = 180: 0.6889880952380952\n",
      "    Gen. Acc, Angle = 210: 0.6785714285714286\n",
      "    Gen. Acc, Angle = 240: 0.7105654761904762\n",
      "    Gen. Acc, Angle = 270: 0.6108630952380952\n",
      "    Gen. Acc, Angle = 300: 0.765625\n",
      "    Gen. Acc, Angle = 330: 0.8504464285714286\n"
     ]
    },
    {
     "name": "stderr",
     "output_type": "stream",
     "text": [
      "100%|██████████| 168/168 [00:31<00:00,  5.28it/s]"
     ]
    },
    {
     "name": "stdout",
     "output_type": "stream",
     "text": [
      "Epoch 8/20, Training Accuracy: 0.9758184523809523\n"
     ]
    },
    {
     "name": "stderr",
     "output_type": "stream",
     "text": [
      "\n"
     ]
    },
    {
     "name": "stdout",
     "output_type": "stream",
     "text": [
      "    Gen. Acc, Angle = 0: 0.9680059523809523\n",
      "    Gen. Acc, Angle = 30: 0.8816964285714286\n",
      "    Gen. Acc, Angle = 60: 0.8147321428571429\n",
      "    Gen. Acc, Angle = 90: 0.7068452380952381\n",
      "    Gen. Acc, Angle = 120: 0.7529761904761905\n",
      "    Gen. Acc, Angle = 150: 0.7239583333333334\n",
      "    Gen. Acc, Angle = 180: 0.7760416666666666\n",
      "    Gen. Acc, Angle = 210: 0.7633928571428571\n",
      "    Gen. Acc, Angle = 240: 0.7916666666666666\n",
      "    Gen. Acc, Angle = 270: 0.6994047619047619\n",
      "    Gen. Acc, Angle = 300: 0.8385416666666666\n",
      "    Gen. Acc, Angle = 330: 0.8883928571428571\n"
     ]
    },
    {
     "name": "stderr",
     "output_type": "stream",
     "text": [
      "100%|██████████| 168/168 [00:31<00:00,  5.29it/s]"
     ]
    },
    {
     "name": "stdout",
     "output_type": "stream",
     "text": [
      "Epoch 9/20, Training Accuracy: 0.9771205357142857\n"
     ]
    },
    {
     "name": "stderr",
     "output_type": "stream",
     "text": [
      "\n"
     ]
    },
    {
     "name": "stdout",
     "output_type": "stream",
     "text": [
      "    Gen. Acc, Angle = 0: 0.9709821428571429\n",
      "    Gen. Acc, Angle = 30: 0.7090773809523809\n",
      "    Gen. Acc, Angle = 60: 0.6130952380952381\n",
      "    Gen. Acc, Angle = 90: 0.5044642857142857\n",
      "    Gen. Acc, Angle = 120: 0.5610119047619048\n",
      "    Gen. Acc, Angle = 150: 0.5238095238095238\n",
      "    Gen. Acc, Angle = 180: 0.5319940476190477\n",
      "    Gen. Acc, Angle = 210: 0.5379464285714286\n",
      "    Gen. Acc, Angle = 240: 0.5982142857142857\n",
      "    Gen. Acc, Angle = 270: 0.46875\n",
      "    Gen. Acc, Angle = 300: 0.6063988095238095\n",
      "    Gen. Acc, Angle = 330: 0.7581845238095238\n"
     ]
    },
    {
     "name": "stderr",
     "output_type": "stream",
     "text": [
      "100%|██████████| 168/168 [00:31<00:00,  5.28it/s]"
     ]
    },
    {
     "name": "stdout",
     "output_type": "stream",
     "text": [
      "Epoch 10/20, Training Accuracy: 0.9799107142857143\n"
     ]
    },
    {
     "name": "stderr",
     "output_type": "stream",
     "text": [
      "\n"
     ]
    },
    {
     "name": "stdout",
     "output_type": "stream",
     "text": [
      "    Gen. Acc, Angle = 0: 0.9434523809523809\n",
      "    Gen. Acc, Angle = 30: 0.6339285714285714\n",
      "    Gen. Acc, Angle = 60: 0.5684523809523809\n",
      "    Gen. Acc, Angle = 90: 0.5059523809523809\n",
      "    Gen. Acc, Angle = 120: 0.5416666666666666\n",
      "    Gen. Acc, Angle = 150: 0.484375\n",
      "    Gen. Acc, Angle = 180: 0.49851190476190477\n",
      "    Gen. Acc, Angle = 210: 0.5245535714285714\n",
      "    Gen. Acc, Angle = 240: 0.6183035714285714\n",
      "    Gen. Acc, Angle = 270: 0.5193452380952381\n",
      "    Gen. Acc, Angle = 300: 0.6041666666666666\n",
      "    Gen. Acc, Angle = 330: 0.7217261904761905\n"
     ]
    },
    {
     "name": "stderr",
     "output_type": "stream",
     "text": [
      "100%|██████████| 168/168 [00:31<00:00,  5.28it/s]"
     ]
    },
    {
     "name": "stdout",
     "output_type": "stream",
     "text": [
      "Epoch 11/20, Training Accuracy: 0.9756324404761905\n"
     ]
    },
    {
     "name": "stderr",
     "output_type": "stream",
     "text": [
      "\n"
     ]
    },
    {
     "name": "stdout",
     "output_type": "stream",
     "text": [
      "    Gen. Acc, Angle = 0: 0.9680059523809523\n",
      "    Gen. Acc, Angle = 30: 0.8883928571428571\n",
      "    Gen. Acc, Angle = 60: 0.8058035714285714\n",
      "    Gen. Acc, Angle = 90: 0.7150297619047619\n",
      "    Gen. Acc, Angle = 120: 0.7313988095238095\n",
      "    Gen. Acc, Angle = 150: 0.6726190476190477\n",
      "    Gen. Acc, Angle = 180: 0.7961309523809523\n",
      "    Gen. Acc, Angle = 210: 0.796875\n",
      "    Gen. Acc, Angle = 240: 0.7946428571428571\n",
      "    Gen. Acc, Angle = 270: 0.7135416666666666\n",
      "    Gen. Acc, Angle = 300: 0.8013392857142857\n",
      "    Gen. Acc, Angle = 330: 0.8459821428571429\n"
     ]
    },
    {
     "name": "stderr",
     "output_type": "stream",
     "text": [
      "100%|██████████| 168/168 [00:31<00:00,  5.29it/s]"
     ]
    },
    {
     "name": "stdout",
     "output_type": "stream",
     "text": [
      "Epoch 12/20, Training Accuracy: 0.9774925595238095\n"
     ]
    },
    {
     "name": "stderr",
     "output_type": "stream",
     "text": [
      "\n"
     ]
    },
    {
     "name": "stdout",
     "output_type": "stream",
     "text": [
      "    Gen. Acc, Angle = 0: 0.984375\n",
      "    Gen. Acc, Angle = 30: 0.8125\n",
      "    Gen. Acc, Angle = 60: 0.7760416666666666\n",
      "    Gen. Acc, Angle = 90: 0.6674107142857143\n",
      "    Gen. Acc, Angle = 120: 0.7068452380952381\n",
      "    Gen. Acc, Angle = 150: 0.6354166666666666\n",
      "    Gen. Acc, Angle = 180: 0.7440476190476191\n",
      "    Gen. Acc, Angle = 210: 0.7247023809523809\n",
      "    Gen. Acc, Angle = 240: 0.7894345238095238\n",
      "    Gen. Acc, Angle = 270: 0.6800595238095238\n",
      "    Gen. Acc, Angle = 300: 0.7842261904761905\n",
      "    Gen. Acc, Angle = 330: 0.8653273809523809\n"
     ]
    },
    {
     "name": "stderr",
     "output_type": "stream",
     "text": [
      "100%|██████████| 168/168 [00:31<00:00,  5.29it/s]"
     ]
    },
    {
     "name": "stdout",
     "output_type": "stream",
     "text": [
      "Epoch 13/20, Training Accuracy: 0.9815848214285714\n"
     ]
    },
    {
     "name": "stderr",
     "output_type": "stream",
     "text": [
      "\n"
     ]
    },
    {
     "name": "stdout",
     "output_type": "stream",
     "text": [
      "    Gen. Acc, Angle = 0: 0.9732142857142857\n",
      "    Gen. Acc, Angle = 30: 0.8742559523809523\n",
      "    Gen. Acc, Angle = 60: 0.7961309523809523\n",
      "    Gen. Acc, Angle = 90: 0.6681547619047619\n",
      "    Gen. Acc, Angle = 120: 0.6897321428571429\n",
      "    Gen. Acc, Angle = 150: 0.6927083333333334\n",
      "    Gen. Acc, Angle = 180: 0.7931547619047619\n",
      "    Gen. Acc, Angle = 210: 0.7470238095238095\n",
      "    Gen. Acc, Angle = 240: 0.7626488095238095\n",
      "    Gen. Acc, Angle = 270: 0.7120535714285714\n",
      "    Gen. Acc, Angle = 300: 0.7842261904761905\n",
      "    Gen. Acc, Angle = 330: 0.8467261904761905\n"
     ]
    },
    {
     "name": "stderr",
     "output_type": "stream",
     "text": [
      "100%|██████████| 168/168 [00:31<00:00,  5.28it/s]"
     ]
    },
    {
     "name": "stdout",
     "output_type": "stream",
     "text": [
      "Epoch 14/20, Training Accuracy: 0.9735863095238095\n"
     ]
    },
    {
     "name": "stderr",
     "output_type": "stream",
     "text": [
      "\n"
     ]
    },
    {
     "name": "stdout",
     "output_type": "stream",
     "text": [
      "    Gen. Acc, Angle = 0: 0.9806547619047619\n",
      "    Gen. Acc, Angle = 30: 0.7581845238095238\n",
      "    Gen. Acc, Angle = 60: 0.6495535714285714\n",
      "    Gen. Acc, Angle = 90: 0.5230654761904762\n",
      "    Gen. Acc, Angle = 120: 0.6004464285714286\n",
      "    Gen. Acc, Angle = 150: 0.5424107142857143\n",
      "    Gen. Acc, Angle = 180: 0.6822916666666666\n",
      "    Gen. Acc, Angle = 210: 0.6339285714285714\n",
      "    Gen. Acc, Angle = 240: 0.6852678571428571\n",
      "    Gen. Acc, Angle = 270: 0.5431547619047619\n",
      "    Gen. Acc, Angle = 300: 0.7232142857142857\n",
      "    Gen. Acc, Angle = 330: 0.8028273809523809\n"
     ]
    },
    {
     "name": "stderr",
     "output_type": "stream",
     "text": [
      "100%|██████████| 168/168 [00:31<00:00,  5.29it/s]"
     ]
    },
    {
     "name": "stdout",
     "output_type": "stream",
     "text": [
      "Epoch 15/20, Training Accuracy: 0.9823288690476191\n"
     ]
    },
    {
     "name": "stderr",
     "output_type": "stream",
     "text": [
      "\n"
     ]
    },
    {
     "name": "stdout",
     "output_type": "stream",
     "text": [
      "    Gen. Acc, Angle = 0: 0.9791666666666666\n",
      "    Gen. Acc, Angle = 30: 0.7194940476190477\n",
      "    Gen. Acc, Angle = 60: 0.65625\n",
      "    Gen. Acc, Angle = 90: 0.5811011904761905\n",
      "    Gen. Acc, Angle = 120: 0.6160714285714286\n",
      "    Gen. Acc, Angle = 150: 0.5327380952380952\n",
      "    Gen. Acc, Angle = 180: 0.6212797619047619\n",
      "    Gen. Acc, Angle = 210: 0.6108630952380952\n",
      "    Gen. Acc, Angle = 240: 0.6919642857142857\n",
      "    Gen. Acc, Angle = 270: 0.5610119047619048\n",
      "    Gen. Acc, Angle = 300: 0.7202380952380952\n",
      "    Gen. Acc, Angle = 330: 0.8065476190476191\n"
     ]
    },
    {
     "name": "stderr",
     "output_type": "stream",
     "text": [
      "100%|██████████| 168/168 [00:31<00:00,  5.30it/s]"
     ]
    },
    {
     "name": "stdout",
     "output_type": "stream",
     "text": [
      "Epoch 16/20, Training Accuracy: 0.9838169642857143\n"
     ]
    },
    {
     "name": "stderr",
     "output_type": "stream",
     "text": [
      "\n"
     ]
    },
    {
     "name": "stdout",
     "output_type": "stream",
     "text": [
      "    Gen. Acc, Angle = 0: 0.9806547619047619\n",
      "    Gen. Acc, Angle = 30: 0.7574404761904762\n",
      "    Gen. Acc, Angle = 60: 0.7113095238095238\n",
      "    Gen. Acc, Angle = 90: 0.5877976190476191\n",
      "    Gen. Acc, Angle = 120: 0.6294642857142857\n",
      "    Gen. Acc, Angle = 150: 0.5491071428571429\n",
      "    Gen. Acc, Angle = 180: 0.6711309523809523\n",
      "    Gen. Acc, Angle = 210: 0.6235119047619048\n",
      "    Gen. Acc, Angle = 240: 0.6964285714285714\n",
      "    Gen. Acc, Angle = 270: 0.5602678571428571\n",
      "    Gen. Acc, Angle = 300: 0.7239583333333334\n",
      "    Gen. Acc, Angle = 330: 0.7998511904761905\n"
     ]
    },
    {
     "name": "stderr",
     "output_type": "stream",
     "text": [
      "100%|██████████| 168/168 [00:31<00:00,  5.28it/s]"
     ]
    },
    {
     "name": "stdout",
     "output_type": "stream",
     "text": [
      "Epoch 17/20, Training Accuracy: 0.9858630952380952\n"
     ]
    },
    {
     "name": "stderr",
     "output_type": "stream",
     "text": [
      "\n"
     ]
    },
    {
     "name": "stdout",
     "output_type": "stream",
     "text": [
      "    Gen. Acc, Angle = 0: 0.9776785714285714\n",
      "    Gen. Acc, Angle = 30: 0.6949404761904762\n",
      "    Gen. Acc, Angle = 60: 0.6264880952380952\n",
      "    Gen. Acc, Angle = 90: 0.5572916666666666\n",
      "    Gen. Acc, Angle = 120: 0.5669642857142857\n",
      "    Gen. Acc, Angle = 150: 0.49776785714285715\n",
      "    Gen. Acc, Angle = 180: 0.5535714285714286\n",
      "    Gen. Acc, Angle = 210: 0.5267857142857143\n",
      "    Gen. Acc, Angle = 240: 0.6004464285714286\n",
      "    Gen. Acc, Angle = 270: 0.5052083333333334\n",
      "    Gen. Acc, Angle = 300: 0.6376488095238095\n",
      "    Gen. Acc, Angle = 330: 0.7477678571428571\n"
     ]
    },
    {
     "name": "stderr",
     "output_type": "stream",
     "text": [
      "100%|██████████| 168/168 [00:31<00:00,  5.28it/s]"
     ]
    },
    {
     "name": "stdout",
     "output_type": "stream",
     "text": [
      "Epoch 18/20, Training Accuracy: 0.9841889880952381\n"
     ]
    },
    {
     "name": "stderr",
     "output_type": "stream",
     "text": [
      "\n"
     ]
    },
    {
     "name": "stdout",
     "output_type": "stream",
     "text": [
      "    Gen. Acc, Angle = 0: 0.9858630952380952\n",
      "    Gen. Acc, Angle = 30: 0.8459821428571429\n",
      "    Gen. Acc, Angle = 60: 0.8132440476190477\n",
      "    Gen. Acc, Angle = 90: 0.7165178571428571\n",
      "    Gen. Acc, Angle = 120: 0.7105654761904762\n",
      "    Gen. Acc, Angle = 150: 0.6644345238095238\n",
      "    Gen. Acc, Angle = 180: 0.7321428571428571\n",
      "    Gen. Acc, Angle = 210: 0.6897321428571429\n",
      "    Gen. Acc, Angle = 240: 0.7678571428571429\n",
      "    Gen. Acc, Angle = 270: 0.6636904761904762\n",
      "    Gen. Acc, Angle = 300: 0.7842261904761905\n",
      "    Gen. Acc, Angle = 330: 0.8586309523809523\n"
     ]
    },
    {
     "name": "stderr",
     "output_type": "stream",
     "text": [
      "100%|██████████| 168/168 [00:31<00:00,  5.27it/s]"
     ]
    },
    {
     "name": "stdout",
     "output_type": "stream",
     "text": [
      "Epoch 19/20, Training Accuracy: 0.9892113095238095\n"
     ]
    },
    {
     "name": "stderr",
     "output_type": "stream",
     "text": [
      "\n"
     ]
    },
    {
     "name": "stdout",
     "output_type": "stream",
     "text": [
      "    Gen. Acc, Angle = 0: 0.9702380952380952\n",
      "    Gen. Acc, Angle = 30: 0.7194940476190477\n",
      "    Gen. Acc, Angle = 60: 0.6532738095238095\n",
      "    Gen. Acc, Angle = 90: 0.5662202380952381\n",
      "    Gen. Acc, Angle = 120: 0.5982142857142857\n",
      "    Gen. Acc, Angle = 150: 0.5438988095238095\n",
      "    Gen. Acc, Angle = 180: 0.5892857142857143\n",
      "    Gen. Acc, Angle = 210: 0.5528273809523809\n",
      "    Gen. Acc, Angle = 240: 0.625\n",
      "    Gen. Acc, Angle = 270: 0.5305059523809523\n",
      "    Gen. Acc, Angle = 300: 0.6339285714285714\n",
      "    Gen. Acc, Angle = 330: 0.734375\n"
     ]
    },
    {
     "name": "stderr",
     "output_type": "stream",
     "text": [
      "100%|██████████| 168/168 [00:31<00:00,  5.28it/s]"
     ]
    },
    {
     "name": "stdout",
     "output_type": "stream",
     "text": [
      "Epoch 20/20, Training Accuracy: 0.9858630952380952\n"
     ]
    },
    {
     "name": "stderr",
     "output_type": "stream",
     "text": [
      "\n"
     ]
    },
    {
     "name": "stdout",
     "output_type": "stream",
     "text": [
      "    Gen. Acc, Angle = 0: 0.9754464285714286\n",
      "    Gen. Acc, Angle = 30: 0.7790178571428571\n",
      "    Gen. Acc, Angle = 60: 0.7202380952380952\n",
      "    Gen. Acc, Angle = 90: 0.6525297619047619\n",
      "    Gen. Acc, Angle = 120: 0.6525297619047619\n",
      "    Gen. Acc, Angle = 150: 0.5699404761904762\n",
      "    Gen. Acc, Angle = 180: 0.6279761904761905\n",
      "    Gen. Acc, Angle = 210: 0.5662202380952381\n",
      "    Gen. Acc, Angle = 240: 0.6369047619047619\n",
      "    Gen. Acc, Angle = 270: 0.5751488095238095\n",
      "    Gen. Acc, Angle = 300: 0.7046130952380952\n",
      "    Gen. Acc, Angle = 330: 0.7827380952380952\n"
     ]
    }
   ],
   "source": [
    "print(\"Training RIC-CNN, No Augment\")\n",
    "riccnn_model = RIC_CNN(BATCH_SIZE).to(device)\n",
    "riccnn_criterion = nn.BCEWithLogitsLoss()  # Suitable for multiclass\n",
    "riccnn_optimizer = torch.optim.Adam(riccnn_model.parameters(), lr=0.001, weight_decay=0.001)\n",
    "riccnn_trainacc, riccnn_genacc = run_binary(NUM_EPOCHS, riccnn_model, \n",
    "                    riccnn_criterion, riccnn_optimizer, \n",
    "                    base_train_loader, test_loader_per_rotation)"
   ]
  },
  {
   "cell_type": "markdown",
   "metadata": {},
   "source": [
    "## Data Processing"
   ]
  },
  {
   "cell_type": "code",
   "execution_count": 15,
   "metadata": {},
   "outputs": [],
   "source": [
    "no_augment_genacc[\"Training\"] = no_augment_trainacc\n",
    "no_augment_dataframe = pd.DataFrame(no_augment_genacc)\n",
    "no_augment_dataframe.to_csv(\"./no_augmentation_acc.csv\")\n",
    "\n",
    "augment_genacc[\"Training\"] = augment_trainacc\n",
    "augment_dataframe = pd.DataFrame(augment_genacc)\n",
    "augment_dataframe.to_csv(\"./augmentation_acc.csv\")\n",
    "\n",
    "riccnn_genacc[\"Training\"] = riccnn_trainacc\n",
    "riccnn_dataframe = pd.DataFrame(riccnn_genacc)\n",
    "riccnn_dataframe.to_csv(\"./riccnn_acc.csv\")"
   ]
  }
 ],
 "metadata": {
  "kernelspec": {
   "display_name": "datasci",
   "language": "python",
   "name": "python3"
  },
  "language_info": {
   "codemirror_mode": {
    "name": "ipython",
    "version": 3
   },
   "file_extension": ".py",
   "mimetype": "text/x-python",
   "name": "python",
   "nbconvert_exporter": "python",
   "pygments_lexer": "ipython3",
   "version": "3.10.12"
  }
 },
 "nbformat": 4,
 "nbformat_minor": 2
}
