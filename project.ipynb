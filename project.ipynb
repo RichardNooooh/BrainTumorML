{
 "cells": [
  {
   "cell_type": "code",
   "execution_count": 13,
   "metadata": {},
   "outputs": [],
   "source": [
    "import numpy as np\n",
    "import matplotlib.pyplot as plt\n",
    "import cv2\n",
    "import os\n",
    "import imutils\n",
    "from PIL import Image\n",
    "from tqdm import tqdm\n",
    "import torch"
   ]
  },
  {
   "cell_type": "markdown",
   "metadata": {},
   "source": []
  },
  {
   "cell_type": "code",
   "execution_count": 14,
   "metadata": {},
   "outputs": [
    {
     "name": "stderr",
     "output_type": "stream",
     "text": [
      "100%|██████████| 1321/1321 [00:01<00:00, 733.89it/s]\n",
      "100%|██████████| 300/300 [00:00<00:00, 750.00it/s]\n",
      "100%|██████████| 1339/1339 [00:01<00:00, 723.78it/s]\n",
      "100%|██████████| 306/306 [00:00<00:00, 788.66it/s]\n",
      "100%|██████████| 1595/1595 [00:01<00:00, 915.61it/s] \n",
      "100%|██████████| 405/405 [00:00<00:00, 1167.15it/s]\n",
      "100%|██████████| 1457/1457 [00:02<00:00, 636.80it/s]\n",
      "100%|██████████| 300/300 [00:00<00:00, 649.35it/s]\n"
     ]
    },
    {
     "name": "stdout",
     "output_type": "stream",
     "text": [
      "(5712, 200, 200)\n",
      "(1311, 200, 200)\n"
     ]
    }
   ],
   "source": [
    "labels = ['glioma', 'meningioma', 'notumor', 'pituitary']\n",
    "\n",
    "x_train = [] # training images.\n",
    "y_train  = [] # training labels.\n",
    "x_test = [] # testing images.\n",
    "y_test = [] # testing labels.\n",
    "\n",
    "image_size = 150\n",
    "\n",
    "for label in labels:\n",
    "    trainPath = os.path.join('raw_data/Training',label)\n",
    "    for file in tqdm(os.listdir(trainPath)):\n",
    "        image = cv2.imread(os.path.join(trainPath, file), 0) # load images in gray.\n",
    "        image = cv2.bilateralFilter(image, 2, 50, 50) # remove images noise.\n",
    "        #image = cv2.applyColorMap(image, cv2.COLORMAP_BONE) # produce a pseudocolored image.\n",
    "        image = cv2.resize(image, (image_size, image_size)) # resize images into 200*200.\n",
    "        x_train.append(image)\n",
    "        y_train.append(labels.index(label)) # TODO change this to 0 if notumor, 1 if tumor\n",
    "    \n",
    "    testPath = os.path.join('raw_data/Testing',label)\n",
    "    for file in tqdm(os.listdir(testPath)):\n",
    "        image = cv2.imread(os.path.join(testPath, file), 0)\n",
    "        image = cv2.bilateralFilter(image, 2, 50, 50)\n",
    "        #image = cv2.applyColorMap(image, cv2.COLORMAP_BONE)\n",
    "        image = cv2.resize(image, (image_size, image_size))\n",
    "        x_test.append(image)\n",
    "        y_test.append(labels.index(label))\n",
    "\n",
    "\n",
    "x_train = np.array(x_train) / 255.0 # normalize Images into range 0 to 1.\n",
    "x_test = np.array(x_test) / 255.0\n",
    "\n",
    "print(x_train.shape)\n",
    "print(x_test.shape)"
   ]
  },
  {
   "cell_type": "code",
   "execution_count": null,
   "metadata": {},
   "outputs": [],
   "source": []
  },
  {
   "cell_type": "code",
   "execution_count": null,
   "metadata": {},
   "outputs": [],
   "source": []
  }
 ],
 "metadata": {
  "kernelspec": {
   "display_name": "datasci",
   "language": "python",
   "name": "python3"
  },
  "language_info": {
   "codemirror_mode": {
    "name": "ipython",
    "version": 3
   },
   "file_extension": ".py",
   "mimetype": "text/x-python",
   "name": "python",
   "nbconvert_exporter": "python",
   "pygments_lexer": "ipython3",
   "version": "3.12.2"
  }
 },
 "nbformat": 4,
 "nbformat_minor": 2
}
