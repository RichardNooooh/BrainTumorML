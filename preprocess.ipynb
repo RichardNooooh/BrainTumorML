{
 "cells": [
  {
   "cell_type": "code",
   "execution_count": 1,
   "metadata": {},
   "outputs": [
    {
     "name": "stderr",
     "output_type": "stream",
     "text": [
      "WARNING: CPU random generator seem to be failing, disabling hardware random number generation\n",
      "WARNING: RDRND generated: 0xffffffff 0xffffffff 0xffffffff 0xffffffff\n"
     ]
    }
   ],
   "source": [
    "import numpy as np\n",
    "import matplotlib.pyplot as plt\n",
    "import cv2\n",
    "import os\n",
    "from PIL import Image\n",
    "import hashlib\n",
    "from shutil import copy2\n",
    "from tqdm import tqdm"
   ]
  },
  {
   "cell_type": "code",
   "execution_count": 2,
   "metadata": {},
   "outputs": [
    {
     "name": "stdout",
     "output_type": "stream",
     "text": [
      "Duplicates found: 297\n"
     ]
    }
   ],
   "source": [
    "def file_hash(filepath):\n",
    "    with open(filepath, 'rb') as f:\n",
    "        return hashlib.md5(f.read()).hexdigest()\n",
    "\n",
    "def check_duplicates(set1, set2):\n",
    "    hashes = {}\n",
    "    duplicates = []\n",
    "\n",
    "    # Process all files in both sets and store their hashes\n",
    "    for dataset_path in [set1, set2]:\n",
    "        for root, _, files in os.walk(dataset_path):\n",
    "            for filename in files:\n",
    "                if filename.endswith('jpg'):  # Add other file types if needed\n",
    "                    file_path = os.path.join(root, filename)\n",
    "                    filehash = file_hash(file_path)\n",
    "                    if filehash in hashes:\n",
    "                        duplicates.append((hashes[filehash], file_path))\n",
    "                    else:\n",
    "                        hashes[filehash] = file_path\n",
    "    return duplicates\n",
    "\n",
    "# Check for duplicates\n",
    "duplicates = check_duplicates('raw_data/Training', 'raw_data/Testing')\n",
    "if duplicates:\n",
    "    print(\"Duplicates found:\", len(duplicates))\n",
    "    # for dup in duplicates:\n",
    "    #     print(f\"Duplicate: {dup[0]} and {dup[1]}\")\n",
    "else:\n",
    "    print(\"No duplicates found.\")"
   ]
  },
  {
   "cell_type": "code",
   "execution_count": 3,
   "metadata": {},
   "outputs": [
    {
     "name": "stderr",
     "output_type": "stream",
     "text": [
      "Processing glioma from Testing: 100%|██████████| 300/300 [00:00<00:00, 525.12it/s]\n",
      "Processing glioma from Training: 100%|██████████| 1321/1321 [00:02<00:00, 623.45it/s]\n",
      "Processing meningioma from Testing: 100%|██████████| 306/306 [00:00<00:00, 573.21it/s]\n",
      "Processing meningioma from Training: 100%|██████████| 1339/1339 [00:02<00:00, 491.26it/s]\n",
      "Processing notumor from Testing: 100%|██████████| 405/405 [00:00<00:00, 726.97it/s]\n",
      "Processing notumor from Training: 100%|██████████| 1595/1595 [00:02<00:00, 789.06it/s]\n",
      "Processing pituitary from Testing: 100%|██████████| 300/300 [00:00<00:00, 573.27it/s]\n",
      "Processing pituitary from Training: 100%|██████████| 1457/1457 [00:02<00:00, 518.57it/s]\n"
     ]
    }
   ],
   "source": [
    "def preprocess_image(image_path, output_path):\n",
    "    \"\"\"Load, preprocess, and save the image.\"\"\"\n",
    "    # Load image\n",
    "    with Image.open(image_path) as img:\n",
    "        # Convert image to grayscale\n",
    "        processed_img = img.convert('L')  # Change 'L' to 'RGB', etc., as needed\n",
    "        \n",
    "        image_np = np.array(processed_img)\n",
    "        image_np = cv2.bilateralFilter(image_np, 2, 50, 50)\n",
    "        image_np = cv2.resize(image_np, (200, 200))\n",
    "        processed_img = Image.fromarray(image_np)\n",
    "\n",
    "        # Save the processed image\n",
    "        processed_img.save(output_path)\n",
    "\n",
    "def find_unique_images(src_dir, dest_dir):\n",
    "    conditions = ['glioma', 'meningioma', 'notumor', 'pituitary']\n",
    "    hashes = {}\n",
    "\n",
    "    for condition in conditions:\n",
    "        condition_path = os.path.join(dest_dir, condition)\n",
    "        if not os.path.exists(condition_path):\n",
    "            os.makedirs(condition_path)\n",
    "\n",
    "        # Process both Testing and Training folders\n",
    "        for folder in ['Testing', 'Training']:\n",
    "            current_path = os.path.join(src_dir, folder, condition)\n",
    "            if os.path.exists(current_path):\n",
    "                for file in tqdm(os.listdir(current_path), desc=f'Processing {condition} from {folder}'):\n",
    "                    filepath = os.path.join(current_path, file)\n",
    "                    try:\n",
    "                        img_hash = file_hash(filepath)\n",
    "\n",
    "                        if img_hash not in hashes:\n",
    "                            hashes[img_hash] = filepath\n",
    "                            output_path = os.path.join(condition_path, os.path.basename(file))\n",
    "                            preprocess_image(filepath, output_path)\n",
    "                    except IOError:\n",
    "                        print(f\"Skipped non-image file: {filepath}\")\n",
    "\n",
    "src_directory = './raw_data'\n",
    "dest_directory = './preprocessed_data'\n",
    "\n",
    "find_unique_images(src_directory, dest_directory)"
   ]
  }
 ],
 "metadata": {
  "kernelspec": {
   "display_name": "datasci",
   "language": "python",
   "name": "python3"
  },
  "language_info": {
   "codemirror_mode": {
    "name": "ipython",
    "version": 3
   },
   "file_extension": ".py",
   "mimetype": "text/x-python",
   "name": "python",
   "nbconvert_exporter": "python",
   "pygments_lexer": "ipython3",
   "version": "3.10.12"
  }
 },
 "nbformat": 4,
 "nbformat_minor": 2
}
