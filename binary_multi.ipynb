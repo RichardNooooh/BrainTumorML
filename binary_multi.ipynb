{
 "cells": [
  {
   "cell_type": "code",
   "execution_count": 1,
   "metadata": {},
   "outputs": [
    {
     "name": "stderr",
     "output_type": "stream",
     "text": [
      "WARNING: CPU random generator seem to be failing, disabling hardware random number generation\n",
      "WARNING: RDRND generated: 0xffffffff 0xffffffff 0xffffffff 0xffffffff\n"
     ]
    }
   ],
   "source": [
    "import numpy as np\n",
    "import matplotlib.pyplot as plt\n",
    "import cv2\n",
    "import os\n",
    "# import imutils\n",
    "from PIL import Image\n",
    "from tqdm import tqdm\n",
    "import torch\n",
    "import torch.nn as nn\n",
    "import torch.nn.functional as F\n",
    "import torchvision.transforms as transforms\n",
    "from torch.utils.data import TensorDataset, DataLoader\n",
    "from sklearn.model_selection import train_test_split\n",
    "import hashlib\n",
    "from collections import Counter"
   ]
  },
  {
   "cell_type": "code",
   "execution_count": 2,
   "metadata": {},
   "outputs": [
    {
     "name": "stdout",
     "output_type": "stream",
     "text": [
      "Using GPU: NVIDIA GeForce RTX 2070 SUPER\n"
     ]
    }
   ],
   "source": [
    "if torch.cuda.is_available():\n",
    "    device = torch.device(\"cuda\")\n",
    "    print(\"Using GPU:\", torch.cuda.get_device_name(0))\n",
    "else:\n",
    "    device = torch.device(\"cpu\")\n",
    "    print(\"GPU not available, using CPU instead.\")"
   ]
  },
  {
   "cell_type": "markdown",
   "metadata": {},
   "source": [
    "## Data Processing"
   ]
  },
  {
   "cell_type": "code",
   "execution_count": 3,
   "metadata": {},
   "outputs": [
    {
     "name": "stdout",
     "output_type": "stream",
     "text": [
      "Duplicates found: 297\n"
     ]
    }
   ],
   "source": [
    "def file_hash(filepath):\n",
    "    with open(filepath, 'rb') as f:\n",
    "        return hashlib.md5(f.read()).hexdigest()\n",
    "\n",
    "def check_duplicates(set1, set2):\n",
    "    hashes = {}\n",
    "    duplicates = []\n",
    "\n",
    "    # Process all files in both sets and store their hashes\n",
    "    for dataset_path in [set1, set2]:\n",
    "        for root, _, files in os.walk(dataset_path):\n",
    "            for filename in files:\n",
    "                if filename.endswith('jpg'):  # Add other file types if needed\n",
    "                    file_path = os.path.join(root, filename)\n",
    "                    filehash = file_hash(file_path)\n",
    "                    if filehash in hashes:\n",
    "                        duplicates.append((hashes[filehash], file_path))\n",
    "                    else:\n",
    "                        hashes[filehash] = file_path\n",
    "    return duplicates\n",
    "\n",
    "# Check for duplicates\n",
    "duplicates = check_duplicates('raw_data/Training', 'raw_data/Testing')\n",
    "if duplicates:\n",
    "    print(\"Duplicates found:\", len(duplicates))\n",
    "    # for dup in duplicates:\n",
    "    #     print(f\"Duplicate: {dup[0]} and {dup[1]}\")\n",
    "else:\n",
    "    print(\"No duplicates found.\")"
   ]
  },
  {
   "cell_type": "markdown",
   "metadata": {},
   "source": [
    "Our data is... really bad. There are 297 duplicates, and some of those duplicates are in the testing AND training sets. No wonder some of the "
   ]
  },
  {
   "cell_type": "code",
   "execution_count": 4,
   "metadata": {},
   "outputs": [
    {
     "name": "stderr",
     "output_type": "stream",
     "text": [
      "100%|██████████| 1595/1595 [00:01<00:00, 839.92it/s] \n",
      "100%|██████████| 1321/1321 [00:01<00:00, 761.60it/s]\n",
      "100%|██████████| 1339/1339 [00:01<00:00, 670.48it/s]\n",
      "100%|██████████| 1457/1457 [00:02<00:00, 604.96it/s]\n",
      "100%|██████████| 405/405 [00:00<00:00, 1196.54it/s]\n",
      "100%|██████████| 300/300 [00:00<00:00, 706.40it/s]\n",
      "100%|██████████| 306/306 [00:00<00:00, 737.12it/s]\n",
      "100%|██████████| 300/300 [00:00<00:00, 721.49it/s]\n"
     ]
    }
   ],
   "source": [
    "label_map = {'notumor': 0, 'glioma': 1, 'meningioma': 2, 'pituitary': 3}\n",
    "image_size = 150\n",
    "\n",
    "simple_transform = transforms.Compose([\n",
    "    transforms.ToTensor() # already normalizes the image\n",
    "])\n",
    "\n",
    "def preprocess_data(image, image_size):\n",
    "    image_np = np.array(image)\n",
    "    image_np = cv2.bilateralFilter(image_np, 2, 50, 50)\n",
    "    image_np = cv2.resize(image_np, (image_size, image_size))\n",
    "    return Image.fromarray(image_np)\n",
    "\n",
    "def load_unique_images(base_path):\n",
    "    images = []\n",
    "    labels = []\n",
    "    hashes = set()\n",
    "    \n",
    "    for partition in ('Training', 'Testing'):\n",
    "        for label in label_map.keys():\n",
    "            path = os.path.join(base_path, partition, label)\n",
    "            for file in tqdm(os.listdir(path)):\n",
    "                file_path = os.path.join(path, file)\n",
    "\n",
    "                img_hash = file_hash(file_path)\n",
    "                if img_hash in hashes:\n",
    "                    continue\n",
    "                hashes.add(img_hash)\n",
    "\n",
    "                # process image\n",
    "                image = Image.open(file_path).convert('L')\n",
    "                image = preprocess_data(image, image_size)\n",
    "                image = simple_transform(image)\n",
    "                images.append(image)\n",
    "                \n",
    "                # (binary label, multiclass label)\n",
    "                labels.append((label_map[label]))\n",
    "    \n",
    "    return images, labels\n",
    "\n",
    "all_images, all_labels = load_unique_images('raw_data')\n",
    "\n",
    "x_train, x_test, y_multi_train, y_multi_test = train_test_split(all_images, all_labels, test_size=0.2, random_state=69)"
   ]
  },
  {
   "cell_type": "code",
   "execution_count": 5,
   "metadata": {},
   "outputs": [
    {
     "name": "stdout",
     "output_type": "stream",
     "text": [
      "Label Distribution\n",
      "    Binary:\n",
      "        Training Counter({1: 4005, 0: 1375})\n",
      "        Test Counter({1: 990, 0: 356})\n",
      "    Multiclass:\n",
      "        Training Counter({3: 1408, 0: 1375, 2: 1309, 1: 1288})\n",
      "        Test Counter({0: 356, 3: 332, 1: 332, 2: 326})\n"
     ]
    }
   ],
   "source": [
    "x_train, x_test = torch.stack(x_train), torch.stack(x_test)\n",
    "\n",
    "y_binary_train = [int(label != 0) for label in y_multi_train]\n",
    "y_binary_test =  [int(label != 0) for label in y_multi_test]\n",
    "\n",
    "print(\"Label Distribution\")\n",
    "print(\"    Binary:\")\n",
    "print(\"        Training\", Counter(y_binary_train))\n",
    "print(\"        Test\", Counter(y_binary_test))\n",
    "print(\"    Multiclass:\")\n",
    "print(\"        Training\", Counter(y_multi_train))\n",
    "print(\"        Test\", Counter(y_multi_test))\n",
    "\n",
    "y_binary_train, y_binary_test = torch.tensor(y_binary_train), torch.tensor(y_binary_test)\n",
    "y_multi_train, y_multi_test = torch.tensor(y_multi_train), torch.tensor(y_multi_test)\n",
    "\n",
    "binary_training = DataLoader(TensorDataset(x_train, y_binary_train), batch_size=32,\n",
    "                             shuffle=True,\n",
    "                             pin_memory=True,\n",
    "                             num_workers=3)\n",
    "binary_testing = DataLoader(TensorDataset(x_test, y_binary_test), batch_size=32,\n",
    "                             shuffle=False,\n",
    "                             pin_memory=True,\n",
    "                             num_workers=3)\n",
    "multi_training = DataLoader(TensorDataset(x_train, y_multi_train), batch_size=32,\n",
    "                             shuffle=True,\n",
    "                             pin_memory=True,\n",
    "                             num_workers=3)\n",
    "multi_testing = DataLoader(TensorDataset(x_test, y_multi_test), batch_size=32,\n",
    "                             shuffle=False,\n",
    "                             pin_memory=True,\n",
    "                             num_workers=3)"
   ]
  },
  {
   "cell_type": "markdown",
   "metadata": {},
   "source": [
    "## Training Model"
   ]
  },
  {
   "cell_type": "code",
   "execution_count": 6,
   "metadata": {},
   "outputs": [],
   "source": [
    "class BinaryClassification(nn.Module):\n",
    "    def __init__(self):\n",
    "        super(BinaryClassification, self).__init__()\n",
    "        # in_channels = the number of channels of the input to the convolutional layer (greyscale = 1, rgb = 3)\n",
    "        # out_channels = the number of feature maps \n",
    "        # padding = (kernel_size-1) / 2\n",
    "        # Use Conv2D since our image data is 2D.\n",
    "        self.conv1 = nn.Conv2d(in_channels=1, out_channels=32, kernel_size=3, padding=1)  # Change input channels if your images are not grayscale\n",
    "        self.conv2 = nn.Conv2d(in_channels=32, out_channels=64, kernel_size=3, padding=1)\n",
    "        self.conv3 = nn.Conv2d(in_channels=64, out_channels=128, kernel_size=3, padding=1)\n",
    "        self.fc1 = nn.Linear(128 * 75 * 75, 128)  # Adjust the size here based on the output of your last pooling layer\n",
    "        self.fc2 = nn.Linear(128, 1)\n",
    "\n",
    "    def forward(self, x):\n",
    "        x = F.relu(self.conv1(x))\n",
    "        x = F.relu(self.conv2(x))\n",
    "        x = F.max_pool2d(F.relu(self.conv3(x)), 2)\n",
    "        x = x.view(x.size(0), -1)  # Flatten the output\n",
    "        x = F.relu(self.fc1(x))\n",
    "        x = self.fc2(x) # we are using BCEWithLogitsLoss\n",
    "        return x\n",
    "\n",
    "binary_model = BinaryClassification().to(device)\n",
    "binary_criterion = nn.BCEWithLogitsLoss()\n",
    "binary_optimizer = torch.optim.Adam(binary_model.parameters(), lr=0.001)"
   ]
  },
  {
   "cell_type": "code",
   "execution_count": 7,
   "metadata": {},
   "outputs": [
    {
     "name": "stderr",
     "output_type": "stream",
     "text": [
      "100%|██████████| 169/169 [00:16<00:00, 10.05it/s]"
     ]
    },
    {
     "name": "stdout",
     "output_type": "stream",
     "text": [
      "Epoch 1/10, Loss: 0.042760979384183884\n"
     ]
    },
    {
     "name": "stderr",
     "output_type": "stream",
     "text": [
      "\n"
     ]
    },
    {
     "name": "stdout",
     "output_type": "stream",
     "text": [
      "Test Accuracy: 94.42793462109955%\n",
      "\n"
     ]
    },
    {
     "name": "stderr",
     "output_type": "stream",
     "text": [
      "100%|██████████| 169/169 [00:15<00:00, 10.58it/s]"
     ]
    },
    {
     "name": "stdout",
     "output_type": "stream",
     "text": [
      "Epoch 2/10, Loss: 0.08709864318370819\n"
     ]
    },
    {
     "name": "stderr",
     "output_type": "stream",
     "text": [
      "\n"
     ]
    },
    {
     "name": "stdout",
     "output_type": "stream",
     "text": [
      "Test Accuracy: 97.69687964338782%\n",
      "\n"
     ]
    },
    {
     "name": "stderr",
     "output_type": "stream",
     "text": [
      "100%|██████████| 169/169 [00:16<00:00, 10.55it/s]"
     ]
    },
    {
     "name": "stdout",
     "output_type": "stream",
     "text": [
      "Epoch 3/10, Loss: 8.78202190506272e-05\n"
     ]
    },
    {
     "name": "stderr",
     "output_type": "stream",
     "text": [
      "\n"
     ]
    },
    {
     "name": "stdout",
     "output_type": "stream",
     "text": [
      "Test Accuracy: 98.43982169390787%\n",
      "\n"
     ]
    },
    {
     "name": "stderr",
     "output_type": "stream",
     "text": [
      "100%|██████████| 169/169 [00:16<00:00, 10.49it/s]"
     ]
    },
    {
     "name": "stdout",
     "output_type": "stream",
     "text": [
      "Epoch 4/10, Loss: 0.0034472031984478235\n"
     ]
    },
    {
     "name": "stderr",
     "output_type": "stream",
     "text": [
      "\n"
     ]
    },
    {
     "name": "stdout",
     "output_type": "stream",
     "text": [
      "Test Accuracy: 97.91976225854383%\n",
      "\n"
     ]
    },
    {
     "name": "stderr",
     "output_type": "stream",
     "text": [
      "100%|██████████| 169/169 [00:16<00:00, 10.43it/s]"
     ]
    },
    {
     "name": "stdout",
     "output_type": "stream",
     "text": [
      "Epoch 5/10, Loss: 0.00809023529291153\n"
     ]
    },
    {
     "name": "stderr",
     "output_type": "stream",
     "text": [
      "\n"
     ]
    },
    {
     "name": "stdout",
     "output_type": "stream",
     "text": [
      "Test Accuracy: 97.91976225854383%\n",
      "\n"
     ]
    },
    {
     "name": "stderr",
     "output_type": "stream",
     "text": [
      "100%|██████████| 169/169 [00:15<00:00, 10.58it/s]"
     ]
    },
    {
     "name": "stdout",
     "output_type": "stream",
     "text": [
      "Epoch 6/10, Loss: 0.0011637060670182109\n"
     ]
    },
    {
     "name": "stderr",
     "output_type": "stream",
     "text": [
      "\n"
     ]
    },
    {
     "name": "stdout",
     "output_type": "stream",
     "text": [
      "Test Accuracy: 98.51411589895989%\n",
      "\n"
     ]
    },
    {
     "name": "stderr",
     "output_type": "stream",
     "text": [
      "100%|██████████| 169/169 [00:16<00:00, 10.54it/s]"
     ]
    },
    {
     "name": "stdout",
     "output_type": "stream",
     "text": [
      "Epoch 7/10, Loss: 0.0\n"
     ]
    },
    {
     "name": "stderr",
     "output_type": "stream",
     "text": [
      "\n"
     ]
    },
    {
     "name": "stdout",
     "output_type": "stream",
     "text": [
      "Test Accuracy: 98.6627043090639%\n",
      "\n"
     ]
    },
    {
     "name": "stderr",
     "output_type": "stream",
     "text": [
      "100%|██████████| 169/169 [00:16<00:00, 10.50it/s]"
     ]
    },
    {
     "name": "stdout",
     "output_type": "stream",
     "text": [
      "Epoch 8/10, Loss: 0.00033696269383654\n"
     ]
    },
    {
     "name": "stderr",
     "output_type": "stream",
     "text": [
      "\n"
     ]
    },
    {
     "name": "stdout",
     "output_type": "stream",
     "text": [
      "Test Accuracy: 98.21693907875186%\n",
      "\n"
     ]
    },
    {
     "name": "stderr",
     "output_type": "stream",
     "text": [
      "100%|██████████| 169/169 [00:16<00:00, 10.47it/s]"
     ]
    },
    {
     "name": "stdout",
     "output_type": "stream",
     "text": [
      "Epoch 9/10, Loss: 2.6523994165472686e-06\n"
     ]
    },
    {
     "name": "stderr",
     "output_type": "stream",
     "text": [
      "\n"
     ]
    },
    {
     "name": "stdout",
     "output_type": "stream",
     "text": [
      "Test Accuracy: 98.43982169390787%\n",
      "\n"
     ]
    },
    {
     "name": "stderr",
     "output_type": "stream",
     "text": [
      "100%|██████████| 169/169 [00:15<00:00, 10.58it/s]"
     ]
    },
    {
     "name": "stdout",
     "output_type": "stream",
     "text": [
      "Epoch 10/10, Loss: 1.937147771968739e-06\n"
     ]
    },
    {
     "name": "stderr",
     "output_type": "stream",
     "text": [
      "\n"
     ]
    },
    {
     "name": "stdout",
     "output_type": "stream",
     "text": [
      "Test Accuracy: 98.14264487369985%\n",
      "\n"
     ]
    }
   ],
   "source": [
    "def train_binary_model(num_epochs):\n",
    "    binary_model.train()  # Set the model to training mode\n",
    "    \n",
    "    for epoch in range(num_epochs):\n",
    "        for images, labels in tqdm(binary_training):\n",
    "            images, labels = images.to(device), labels.float().unsqueeze(1).to(device)\n",
    "            \n",
    "            binary_optimizer.zero_grad()\n",
    "            outputs = binary_model(images)\n",
    "            loss = binary_criterion(outputs, labels)\n",
    "            loss.backward()\n",
    "            binary_optimizer.step()\n",
    "        \n",
    "        print(f'Epoch {epoch+1}/{num_epochs}, Loss: {loss.item()}')\n",
    "        evaluate_binary_model()\n",
    "\n",
    "def evaluate_binary_model():\n",
    "    binary_model.eval()  # Set the model to evaluation mode\n",
    "    correct = 0\n",
    "    total = 0\n",
    "    with torch.no_grad():\n",
    "        for images, labels in binary_testing:\n",
    "            images, labels = images.to(device), labels.float().unsqueeze(1).to(device)\n",
    "            outputs = binary_model(images)\n",
    "            probs = torch.sigmoid(outputs)  # Convert logits to probabilities\n",
    "            predicted = probs.round()  # Convert probabilities to 0 or 1\n",
    "            total += labels.size(0)\n",
    "            correct += (predicted == labels).sum().item()\n",
    "    accuracy = 100 * correct / total\n",
    "    print(f'Test Accuracy: {accuracy}%\\n')\n",
    "\n",
    "\n",
    "train_binary_model(10)"
   ]
  },
  {
   "cell_type": "code",
   "execution_count": 8,
   "metadata": {},
   "outputs": [],
   "source": [
    "class MulticlassClassification(nn.Module):\n",
    "    def __init__(self):\n",
    "        super(MulticlassClassification, self).__init__()\n",
    "        self.conv1 = nn.Conv2d(in_channels=1, out_channels=32, kernel_size=3, padding=1)\n",
    "        self.conv2 = nn.Conv2d(in_channels=32, out_channels=64, kernel_size=3, padding=1)\n",
    "        self.conv3 = nn.Conv2d(in_channels=64, out_channels=128, kernel_size=3, padding=1)\n",
    "        self.fc1 = nn.Linear(128 * 75 * 75, 128)  # Adjust if different size or pooling\n",
    "        self.fc2 = nn.Linear(128, 4)  # Output layer for multiclass classification\n",
    "\n",
    "    def forward(self, x):\n",
    "        x = F.relu(self.conv1(x))\n",
    "        x = F.relu(self.conv2(x))\n",
    "        x = F.max_pool2d(F.relu(self.conv3(x)), 2)  # Pooling to reduce spatial dimensions\n",
    "        x = x.view(x.size(0), -1)  # Flatten the output\n",
    "        x = F.relu(self.fc1(x))\n",
    "        x = self.fc2(x)  # No activation, raw logits for CrossEntropyLoss\n",
    "        return x\n",
    "\n",
    "# Example instantiation and setup\n",
    "multiclass_model = MulticlassClassification().to(device)\n",
    "multiclass_criterion = nn.CrossEntropyLoss()  # Suitable for multiclass\n",
    "multiclass_optimizer = torch.optim.Adam(multiclass_model.parameters(), lr=0.001)"
   ]
  },
  {
   "cell_type": "code",
   "execution_count": 9,
   "metadata": {},
   "outputs": [
    {
     "name": "stderr",
     "output_type": "stream",
     "text": [
      "100%|██████████| 169/169 [00:16<00:00, 10.52it/s]"
     ]
    },
    {
     "name": "stdout",
     "output_type": "stream",
     "text": [
      "Epoch 1/10, Loss: 0.2880149483680725\n"
     ]
    },
    {
     "name": "stderr",
     "output_type": "stream",
     "text": [
      "\n"
     ]
    },
    {
     "name": "stdout",
     "output_type": "stream",
     "text": [
      "Test Accuracy: 80.16344725111442%\n",
      "\n"
     ]
    },
    {
     "name": "stderr",
     "output_type": "stream",
     "text": [
      "100%|██████████| 169/169 [00:15<00:00, 10.56it/s]"
     ]
    },
    {
     "name": "stdout",
     "output_type": "stream",
     "text": [
      "Epoch 2/10, Loss: 0.026433374732732773\n"
     ]
    },
    {
     "name": "stderr",
     "output_type": "stream",
     "text": [
      "\n"
     ]
    },
    {
     "name": "stdout",
     "output_type": "stream",
     "text": [
      "Test Accuracy: 84.54680534918276%\n",
      "\n"
     ]
    },
    {
     "name": "stderr",
     "output_type": "stream",
     "text": [
      "100%|██████████| 169/169 [00:15<00:00, 10.57it/s]"
     ]
    },
    {
     "name": "stdout",
     "output_type": "stream",
     "text": [
      "Epoch 3/10, Loss: 0.21652063727378845\n"
     ]
    },
    {
     "name": "stderr",
     "output_type": "stream",
     "text": [
      "\n"
     ]
    },
    {
     "name": "stdout",
     "output_type": "stream",
     "text": [
      "Test Accuracy: 91.2332838038633%\n",
      "\n"
     ]
    },
    {
     "name": "stderr",
     "output_type": "stream",
     "text": [
      "100%|██████████| 169/169 [00:16<00:00, 10.55it/s]"
     ]
    },
    {
     "name": "stdout",
     "output_type": "stream",
     "text": [
      "Epoch 4/10, Loss: 0.01765662617981434\n"
     ]
    },
    {
     "name": "stderr",
     "output_type": "stream",
     "text": [
      "\n"
     ]
    },
    {
     "name": "stdout",
     "output_type": "stream",
     "text": [
      "Test Accuracy: 91.82763744427935%\n",
      "\n"
     ]
    },
    {
     "name": "stderr",
     "output_type": "stream",
     "text": [
      "100%|██████████| 169/169 [00:15<00:00, 10.59it/s]"
     ]
    },
    {
     "name": "stdout",
     "output_type": "stream",
     "text": [
      "Epoch 5/10, Loss: 0.015543282963335514\n"
     ]
    },
    {
     "name": "stderr",
     "output_type": "stream",
     "text": [
      "\n"
     ]
    },
    {
     "name": "stdout",
     "output_type": "stream",
     "text": [
      "Test Accuracy: 90.49034175334324%\n",
      "\n"
     ]
    },
    {
     "name": "stderr",
     "output_type": "stream",
     "text": [
      "100%|██████████| 169/169 [00:16<00:00, 10.55it/s]"
     ]
    },
    {
     "name": "stdout",
     "output_type": "stream",
     "text": [
      "Epoch 6/10, Loss: 0.0011047336738556623\n"
     ]
    },
    {
     "name": "stderr",
     "output_type": "stream",
     "text": [
      "\n"
     ]
    },
    {
     "name": "stdout",
     "output_type": "stream",
     "text": [
      "Test Accuracy: 93.01634472511144%\n",
      "\n"
     ]
    },
    {
     "name": "stderr",
     "output_type": "stream",
     "text": [
      "100%|██████████| 169/169 [00:16<00:00, 10.54it/s]"
     ]
    },
    {
     "name": "stdout",
     "output_type": "stream",
     "text": [
      "Epoch 7/10, Loss: 1.814915049180854e-05\n"
     ]
    },
    {
     "name": "stderr",
     "output_type": "stream",
     "text": [
      "\n"
     ]
    },
    {
     "name": "stdout",
     "output_type": "stream",
     "text": [
      "Test Accuracy: 92.42199108469539%\n",
      "\n"
     ]
    },
    {
     "name": "stderr",
     "output_type": "stream",
     "text": [
      "100%|██████████| 169/169 [00:15<00:00, 10.60it/s]"
     ]
    },
    {
     "name": "stdout",
     "output_type": "stream",
     "text": [
      "Epoch 8/10, Loss: 0.002379682380706072\n"
     ]
    },
    {
     "name": "stderr",
     "output_type": "stream",
     "text": [
      "\n"
     ]
    },
    {
     "name": "stdout",
     "output_type": "stream",
     "text": [
      "Test Accuracy: 91.90193164933135%\n",
      "\n"
     ]
    },
    {
     "name": "stderr",
     "output_type": "stream",
     "text": [
      "100%|██████████| 169/169 [00:15<00:00, 10.70it/s]"
     ]
    },
    {
     "name": "stdout",
     "output_type": "stream",
     "text": [
      "Epoch 9/10, Loss: 6.288210897764657e-06\n"
     ]
    },
    {
     "name": "stderr",
     "output_type": "stream",
     "text": [
      "\n"
     ]
    },
    {
     "name": "stdout",
     "output_type": "stream",
     "text": [
      "Test Accuracy: 93.16493313521545%\n",
      "\n"
     ]
    },
    {
     "name": "stderr",
     "output_type": "stream",
     "text": [
      "100%|██████████| 169/169 [00:15<00:00, 10.71it/s]"
     ]
    },
    {
     "name": "stdout",
     "output_type": "stream",
     "text": [
      "Epoch 10/10, Loss: 0.0007827036315575242\n"
     ]
    },
    {
     "name": "stderr",
     "output_type": "stream",
     "text": [
      "\n"
     ]
    },
    {
     "name": "stdout",
     "output_type": "stream",
     "text": [
      "Test Accuracy: 92.79346210995543%\n",
      "\n"
     ]
    }
   ],
   "source": [
    "def train_multiclass_model(model, optimizer, criterion, num_epochs):\n",
    "    model.train()  # Set the model to training mode\n",
    "    \n",
    "    for epoch in range(num_epochs):\n",
    "        for images, labels in tqdm(multi_training):\n",
    "            images, labels = images.to(device), labels.to(device)\n",
    "            \n",
    "            optimizer.zero_grad()\n",
    "            outputs = model(images)\n",
    "            loss = criterion(outputs, labels)\n",
    "            loss.backward()\n",
    "            optimizer.step()\n",
    "        \n",
    "        print(f'Epoch {epoch+1}/{num_epochs}, Loss: {loss.item()}')\n",
    "        evaluate_multiclass_model(model)\n",
    "\n",
    "def evaluate_multiclass_model(model):\n",
    "    model.eval()  # Set the model to evaluation mode\n",
    "    correct = 0\n",
    "    total = 0\n",
    "    with torch.no_grad():\n",
    "        for images, labels in multi_testing:\n",
    "            images, labels = images.to(device), labels.to(device)\n",
    "            outputs = model(images)\n",
    "            _, predicted = torch.max(outputs.data, 1)  # Get the index of the max log-probability\n",
    "            total += labels.size(0)\n",
    "            correct += (predicted == labels).sum().item()\n",
    "    \n",
    "    accuracy = 100 * correct / total\n",
    "    print(f'Test Accuracy: {accuracy}%\\n')\n",
    "\n",
    "# Example of training the model\n",
    "num_epochs = 10\n",
    "train_multiclass_model(multiclass_model, multiclass_optimizer, multiclass_criterion, num_epochs)\n"
   ]
  }
 ],
 "metadata": {
  "kernelspec": {
   "display_name": "datasci",
   "language": "python",
   "name": "python3"
  },
  "language_info": {
   "codemirror_mode": {
    "name": "ipython",
    "version": 3
   },
   "file_extension": ".py",
   "mimetype": "text/x-python",
   "name": "python",
   "nbconvert_exporter": "python",
   "pygments_lexer": "ipython3",
   "version": "3.10.12"
  }
 },
 "nbformat": 4,
 "nbformat_minor": 2
}
